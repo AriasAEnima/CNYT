{
 "cells": [
  {
   "cell_type": "markdown",
   "metadata": {},
   "source": [
    "#  Proyecto Final CNYT \n",
    "\n",
    "---\n",
    "---\n",
    "## Se escogio el Computador Cuantico IBMQ Ourense para todas las ejecuciones de los algoritmos\n",
    "\n",
    "## 1.  A)   Ilustracion del Algoritmo de Deutsh\n",
    "\n",
    "##  A) Tomemos la funcion $ f(x)=1 $\n",
    "### 1.1  A)   Ilustracion en conjunto\n",
    "<img src=\"Imagenes/fconstante.png\">"
   ]
  },
  {
   "cell_type": "markdown",
   "metadata": {},
   "source": [
    "## 1.2  A)   Calculo de Outputs , creacion de la matriz \n",
    "<img src=\"Imagenes/uf.png\" width=\"25%\">\n",
    "\n",
    "\n",
    "\n",
    "\\begin{matrix} & --------& \\\\\n",
    "{\\displaystyle | 0\\rangle }---  & |\\hspace{2.6cm}|&------{\\displaystyle | 0\\rangle }\\\\\n",
    "& | \\hspace{1cm}  U_f  \\hspace{1cm} |& \\\\\n",
    "{\\displaystyle | 0\\rangle }--- & |\\hspace{2.6cm}|& --- {\\displaystyle | 0 \\oplus 1 = 1 \\rangle }\\\\\n",
    "&  -------- &\\\\\n",
    "\\end{matrix}\n",
    "\n",
    "\\begin{matrix}\n",
    "& --------& \\\\\n",
    "{\\displaystyle | 0\\rangle }---  & |\\hspace{2.6cm}|&------{\\displaystyle | 0\\rangle }\\\\\n",
    "& | \\hspace{1cm}  U_f  \\hspace{1cm} |& \\\\\n",
    "{\\displaystyle | 1\\rangle }--- & |\\hspace{2.6cm}|& --- {\\displaystyle | 1 \\oplus 1  = 0 \\rangle }\\\\\n",
    "&  -------- &\\\\\n",
    "\\end{matrix}\n",
    "\n",
    "\\begin{matrix}\n",
    "& --------& \\\\\n",
    "{\\displaystyle | 1\\rangle }---  & |\\hspace{2.6cm}|&-------{\\displaystyle | 1\\rangle }\\\\\n",
    "& | \\hspace{1cm}  U_f  \\hspace{1cm} |& \\\\\n",
    "{\\displaystyle | 0\\rangle }--- & |\\hspace{2.6cm}|& --- {\\displaystyle | 0 \\oplus 1= 1\\rangle }\\\\\n",
    "&  -------- &\\\\\n",
    "\\end{matrix}\n",
    "\n",
    "\\begin{matrix}\n",
    "& --------& \\\\\n",
    "{\\displaystyle | 1\\rangle }---  & |\\hspace{2.6cm}|&----{\\displaystyle | 1\\rangle }\\\\\n",
    "& | \\hspace{1cm}  U_f  \\hspace{1cm} |& \\\\\n",
    "{\\displaystyle | 1\\rangle }--- & |\\hspace{2.6cm}|& --- {\\displaystyle | 1 \\oplus 1=0\\rangle }\\\\\n",
    "&  -------- &\\\\\n",
    "\\end{matrix} \n",
    "\n"
   ]
  },
  {
   "cell_type": "markdown",
   "metadata": {},
   "source": [
    "### tal que $x$ es el qubit de la izquierda , $y $  el de la derecha \n",
    "\n",
    "## 1.3   A)   $$\n",
    "\\begin{array}{cc} \n",
    "\\begin{array}&&&&   \\hspace{0.5cm} 00 &01&10&11\\\\\n",
    "\\end{array}\n",
    "\\\\\n",
    "U_f=\n",
    "\\begin{array}{ccc}\n",
    "00 \\\\\n",
    "01 \\\\\n",
    "10 \\\\\n",
    "11 \\\\\n",
    "\\end{array}\n",
    "\\begin{bmatrix}\n",
    "0 & \\hspace{0.2cm} 1 \\hspace{0.2cm}& \\hspace{0.2cm} 0  & \\hspace{0.4cm} 0\\\\\n",
    "1 & \\hspace{0.2cm} 0 \\hspace{0.2cm}& \\hspace{0.2cm} 0  & \\hspace{0.4cm} 0\\\\\n",
    "0 & \\hspace{0.2cm} 0 \\hspace{0.2cm}& \\hspace{0.2cm} 0  & \\hspace{0.4cm} 1\\\\\n",
    "0 & \\hspace{0.2cm} 0 \\hspace{0.2cm}& \\hspace{0.2cm} 1  & \\hspace{0.4cm} 0\\\\\n",
    "\\end{bmatrix}\n",
    "\\end{array}\n",
    "$$\n",
    "\n",
    "## Lo cual parece que se esta negando el segundo qubit, por que sospecho que puede un circuito con la compuerta $X$ en el segundo alambre\n"
   ]
  },
  {
   "cell_type": "code",
   "execution_count": 3,
   "metadata": {},
   "outputs": [
    {
     "name": "stdout",
     "output_type": "stream",
     "text": [
      "[{0+0i}, {1+0i}, {0+0i}, {0+0i}]\n",
      "[{1+0i}, {0+0i}, {0+0i}, {0+0i}]\n",
      "[{0+0i}, {0+0i}, {0+0i}, {1+0i}]\n",
      "[{0+0i}, {0+0i}, {1+0i}, {0+0i}]\n",
      "\n"
     ]
    }
   ],
   "source": [
    "from Matriz_Compleja.libreriamatrices import prodtensorial as ten,identidad, multmat as mult ,matrizcompleja as mc\n",
    "from Simulador.simuladorcuantico import resultado as resultadoc\n",
    "X=mc([[(0,0),(1,0)],[(1,0),(0,0)]])\n",
    "ID=identidad(2)\n",
    "ans=ten(ID,X)\n",
    "print(ans)"
   ]
  },
  {
   "cell_type": "markdown",
   "metadata": {},
   "source": [
    "## 1.4  A)   Esto confirma por lo tanto el circuito de $U_f$ es siguiente:\n"
   ]
  },
  {
   "cell_type": "code",
   "execution_count": 13,
   "metadata": {
    "scrolled": false
   },
   "outputs": [
    {
     "name": "stderr",
     "output_type": "stream",
     "text": [
      "ibmqfactory.load_account:WARNING:2020-05-24 12:39:34,971: Credentials are already in use. The existing account in the session will be replaced.\n"
     ]
    },
    {
     "data": {
      "image/png": "[encoded data removed]",
      "text/plain": [
       "<Figure size 238.392x144.48 with 1 Axes>"
      ]
     },
     "execution_count": 13,
     "metadata": {},
     "output_type": "execute_result"
    }
   ],
   "source": [
    "%matplotlib inline\n",
    "from qiskit import QuantumCircuit, execute, Aer, IBMQ\n",
    "from qiskit.compiler import transpile, assemble\n",
    "from qiskit.tools.jupyter import *\n",
    "from qiskit.visualization import *\n",
    "IBMQ.load_account()\n",
    "F=QuantumCircuit(2)\n",
    "F.x(1)\n",
    "F.draw(output='mpl')"
   ]
  },
  {
   "cell_type": "markdown",
   "metadata": {},
   "source": [
    "## 1.5  A)   Entonces procedemos a meter el circuito en una caja negra y a montar el circuito de Deutsch "
   ]
  },
  {
   "cell_type": "code",
   "execution_count": 20,
   "metadata": {
    "scrolled": true
   },
   "outputs": [
    {
     "data": {
      "image/png": "[encoded data removed]",
      "text/plain": [
       "<Figure size 719.992x204.68 with 1 Axes>"
      ]
     },
     "execution_count": 20,
     "metadata": {},
     "output_type": "execute_result"
    }
   ],
   "source": [
    "compuerta_uf=F.to_gate()\n",
    "compuerta_uf.name=\"  U_f  \"\n",
    "circuito=QuantumCircuit(2,1)\n",
    "circuito.x(1)\n",
    "circuito.barrier()\n",
    "circuito.h([0,1])\n",
    "circuito.append(compuerta_uf,[0,1])\n",
    "circuito.h(0)\n",
    "circuito.measure([0],[0])\n",
    "circuito.draw(output='mpl')"
   ]
  },
  {
   "cell_type": "code",
   "execution_count": 15,
   "metadata": {},
   "outputs": [
    {
     "name": "stdout",
     "output_type": "stream",
     "text": [
      "{'0': 1}\n"
     ]
    }
   ],
   "source": [
    "proveedor=IBMQ.get_provider('ibm-q')\n",
    "comp_cuantico=proveedor.get_backend('ibmq_ourense')\n",
    "ejecucion=execute(circuito,backend=comp_cuantico,shots=1)\n",
    "resultado=ejecucion.result()\n",
    "counts=resultado.get_counts()\n",
    "print(counts)"
   ]
  },
  {
   "cell_type": "markdown",
   "metadata": {},
   "source": [
    "## 1.6  A)   Resultados del Algoritmo de Deutsch"
   ]
  },
  {
   "cell_type": "code",
   "execution_count": 16,
   "metadata": {
    "scrolled": true
   },
   "outputs": [
    {
     "data": {
      "image/png": "[encoded data removed]",
      "text/plain": [
       "<Figure size 504x360 with 1 Axes>"
      ]
     },
     "execution_count": 16,
     "metadata": {},
     "output_type": "execute_result"
    }
   ],
   "source": [
    "plot_histogram(counts)"
   ]
  },
  {
   "cell_type": "markdown",
   "metadata": {},
   "source": [
    "## 1.7 A) Conclusiones\n",
    "\n",
    "### Concluimos que la funcion es constante como deberia ser ya que en su mayoria colapsara al estado ${\\displaystyle | 0\\rangle }$\n",
    "\n",
    "\n"
   ]
  },
  {
   "cell_type": "markdown",
   "metadata": {},
   "source": [
    "---\n",
    "---\n",
    "---\n",
    "\n",
    "## 1.  B)   Ilustracion del Algoritmo de Deutsh\n",
    "\n",
    "##  B ) Tomemos la funcion $ f(0)=1 , f(1)=0 $\n",
    "### 1.1  B)   Ilustracion en conjunto\n",
    "<img src=\"Imagenes/fb.png\">"
   ]
  },
  {
   "cell_type": "markdown",
   "metadata": {},
   "source": [
    "### 1.2  B)   Calculo de Outputs , creacion de la matriz \n",
    "<img src=\"Imagenes/uf.png\" width=\"25%\">\n",
    "\n",
    "\n",
    "\n",
    "\\begin{matrix} & --------& \\\\\n",
    "{\\displaystyle | 0\\rangle }---  & |\\hspace{2.6cm}|&------{\\displaystyle | 0\\rangle }\\\\\n",
    "& | \\hspace{1cm}  U_f  \\hspace{1cm} |& \\\\\n",
    "{\\displaystyle | 0\\rangle }--- & |\\hspace{2.6cm}|& --- {\\displaystyle | 0 \\oplus 1 = 1 \\rangle }\\\\\n",
    "&  -------- &\\\\\n",
    "\\end{matrix}\n",
    "\n",
    "\\begin{matrix}\n",
    "& --------& \\\\\n",
    "{\\displaystyle | 0\\rangle }---  & |\\hspace{2.6cm}|&------{\\displaystyle | 0\\rangle }\\\\\n",
    "& | \\hspace{1cm}  U_f  \\hspace{1cm} |& \\\\\n",
    "{\\displaystyle | 1\\rangle }--- & |\\hspace{2.6cm}|& --- {\\displaystyle | 1 \\oplus 1  = 0 \\rangle }\\\\\n",
    "&  -------- &\\\\\n",
    "\\end{matrix}\n",
    "\n",
    "\\begin{matrix}\n",
    "& --------& \\\\\n",
    "{\\displaystyle | 1\\rangle }---  & |\\hspace{2.6cm}|&-------{\\displaystyle | 1\\rangle }\\\\\n",
    "& | \\hspace{1cm}  U_f  \\hspace{1cm} |& \\\\\n",
    "{\\displaystyle | 0\\rangle }--- & |\\hspace{2.6cm}|& --- {\\displaystyle | 0 \\oplus 0= 0\\rangle }\\\\\n",
    "&  -------- &\\\\\n",
    "\\end{matrix}\n",
    "\n",
    "\\begin{matrix}\n",
    "& --------& \\\\\n",
    "{\\displaystyle | 1\\rangle }---  & |\\hspace{2.6cm}|&----{\\displaystyle | 1\\rangle }\\\\\n",
    "& | \\hspace{1cm}  U_f  \\hspace{1cm} |& \\\\\n",
    "{\\displaystyle | 1\\rangle }--- & |\\hspace{2.6cm}|& --- {\\displaystyle | 1 \\oplus 0=1\\rangle }\\\\\n",
    "&  -------- &\\\\\n",
    "\\end{matrix} "
   ]
  },
  {
   "cell_type": "markdown",
   "metadata": {},
   "source": [
    "### tal que $x$ es el bit de la izquierda , $y $  el de la derecha \n",
    "\n",
    "## 1.3   A)   $$\n",
    "\\begin{array}{cc} \n",
    "\\begin{array}&&&&   \\hspace{0.5cm} 00 &01&10&11\\\\\n",
    "\\end{array}\n",
    "\\\\\n",
    "U_f=\n",
    "\\begin{array}{ccc}\n",
    "00 \\\\\n",
    "01 \\\\\n",
    "10 \\\\\n",
    "11 \\\\\n",
    "\\end{array}\n",
    "\\begin{bmatrix}\n",
    "0 & \\hspace{0.2cm} 1 \\hspace{0.2cm}& \\hspace{0.2cm} 0  & \\hspace{0.4cm} 0\\\\\n",
    "1 & \\hspace{0.2cm} 0 \\hspace{0.2cm}& \\hspace{0.2cm} 0  & \\hspace{0.4cm} 0\\\\\n",
    "0 & \\hspace{0.2cm} 0 \\hspace{0.2cm}& \\hspace{0.2cm} 1  & \\hspace{0.4cm} 0\\\\\n",
    "0 & \\hspace{0.2cm} 0 \\hspace{0.2cm}& \\hspace{0.2cm} 0  & \\hspace{0.4cm} 1\\\\\n",
    "\\end{bmatrix}\n",
    "\\end{array}\n",
    "$$\n",
    "\n",
    "## Parece que cambia el segundo qubit , si el primer qubit es 0 , es decir una compuerta CNOT con el control negado, por lo tanto necesitaremos una compuerta  X en el primer alambre , una CNOT con controlador arriba y nuevamente una compuerta X para dejar el qubit en el estado inicial"
   ]
  },
  {
   "cell_type": "code",
   "execution_count": 2,
   "metadata": {},
   "outputs": [
    {
     "name": "stdout",
     "output_type": "stream",
     "text": [
      "[{0+0i}, {1+0i}, {0+0i}, {0+0i}]\n",
      "[{1+0i}, {0+0i}, {0+0i}, {0+0i}]\n",
      "[{0+0i}, {0+0i}, {1+0i}, {0+0i}]\n",
      "[{0+0i}, {0+0i}, {0+0i}, {1+0i}]\n",
      "\n"
     ]
    }
   ],
   "source": [
    "from Matriz_Compleja.libreriamatrices import prodtensorial as ten,identidad, multmat as mult ,matrizcompleja as mc\n",
    "from Simulador.simuladorcuantico import resultado as resultadoc\n",
    "X=mc([[(0,0),(1,0)],[(1,0),(0,0)]])\n",
    "ID=identidad(2)\n",
    "CNOT=mc([\n",
    "        [(1,0),(0,0),(0,0),(0,0)],\n",
    "        [(0,0),(1,0),(0,0),(0,0)],\n",
    "        [(0,0),(0,0),(0,0),(1,0)],\n",
    "        [(0,0),(0,0),(1,0),(0,0)]\n",
    "    ])\n",
    "XID=ten(X,ID)\n",
    "ans=mult(CNOT,XID)\n",
    "ans=mult(XID,ans)\n",
    "print(ans)"
   ]
  },
  {
   "cell_type": "markdown",
   "metadata": {},
   "source": [
    "## 1.4  B)   Esto confirma por lo tanto el circuito de $U_f$ es siguiente:\n"
   ]
  },
  {
   "cell_type": "code",
   "execution_count": 4,
   "metadata": {
    "scrolled": true
   },
   "outputs": [
    {
     "data": {
      "image/png": "[encoded data removed]",
      "text/plain": [
       "<Figure size 358.792x144.48 with 1 Axes>"
      ]
     },
     "execution_count": 4,
     "metadata": {},
     "output_type": "execute_result"
    }
   ],
   "source": [
    "%matplotlib inline\n",
    "from qiskit import QuantumCircuit, execute, Aer, IBMQ\n",
    "from qiskit.compiler import transpile, assemble\n",
    "from qiskit.tools.jupyter import *\n",
    "from qiskit.visualization import *\n",
    "IBMQ.load_account()\n",
    "F2=QuantumCircuit(2)\n",
    "F2.x(0)\n",
    "F2.cx(0,1)\n",
    "F2.x(0)\n",
    "F2.draw(output='mpl')"
   ]
  },
  {
   "cell_type": "markdown",
   "metadata": {},
   "source": [
    "## 1.5  B)   Entonces procedemos a meter el circuito en una caja negra y a montar el circuito de Deutsch "
   ]
  },
  {
   "cell_type": "code",
   "execution_count": 21,
   "metadata": {
    "scrolled": false
   },
   "outputs": [
    {
     "data": {
      "image/png": "[encoded data removed]",
      "text/plain": [
       "<Figure size 719.992x204.68 with 1 Axes>"
      ]
     },
     "execution_count": 21,
     "metadata": {},
     "output_type": "execute_result"
    }
   ],
   "source": [
    "compuerta_uf=F2.to_gate()\n",
    "compuerta_uf.name=\"  U_f  \"\n",
    "circuito2=QuantumCircuit(2,1)\n",
    "circuito2.x(1)\n",
    "circuito2.barrier()\n",
    "circuito2.h([0,1])\n",
    "circuito2.append(compuerta_uf,[0,1])\n",
    "circuito2.h(0)\n",
    "circuito2.measure([0],[0])\n",
    "circuito2.draw(output='mpl')"
   ]
  },
  {
   "cell_type": "code",
   "execution_count": 6,
   "metadata": {
    "scrolled": false
   },
   "outputs": [
    {
     "name": "stderr",
     "output_type": "stream",
     "text": [
      "ibmqfactory.load_account:WARNING:2020-05-24 12:33:40,842: Credentials are already in use. The existing account in the session will be replaced.\n"
     ]
    },
    {
     "name": "stdout",
     "output_type": "stream",
     "text": [
      "{'1': 969, '0': 55}\n"
     ]
    }
   ],
   "source": [
    "proveedor=IBMQ.get_provider('ibm-q')\n",
    "comp_cuantico=proveedor.get_backend('ibmq_ourense')\n",
    "ejecucion=execute(circuito2,backend=comp_cuantico,shots=1024)\n",
    "resultado=ejecucion.result()\n",
    "counts=resultado.get_counts()\n",
    "print(counts)"
   ]
  },
  {
   "cell_type": "markdown",
   "metadata": {},
   "source": [
    "## 1.6  B)   Resultados del Algoritmo de Deutsch"
   ]
  },
  {
   "cell_type": "code",
   "execution_count": 7,
   "metadata": {
    "scrolled": false
   },
   "outputs": [
    {
     "data": {
      "image/png": "[encoded data removed]",
      "text/plain": [
       "<Figure size 504x360 with 1 Axes>"
      ]
     },
     "execution_count": 7,
     "metadata": {},
     "output_type": "execute_result"
    }
   ],
   "source": [
    "plot_histogram(counts)"
   ]
  },
  {
   "cell_type": "markdown",
   "metadata": {},
   "source": [
    "## 1.7 B) Conclusiones\n",
    "\n",
    "### Concluimos que la funcion es balanceada como deberia ser ya que en su mayoria NO colapsara al estado ${\\displaystyle | 0\\rangle }$ y si al estado ${\\displaystyle | 1\\rangle }$ \n"
   ]
  },
  {
   "cell_type": "code",
   "execution_count": 6,
   "metadata": {
    "scrolled": false
   },
   "outputs": [
    {
     "name": "stderr",
     "output_type": "stream",
     "text": [
      "ibmqfactory.load_account:WARNING:2020-05-24 12:33:40,842: Credentials are already in use. The existing account in the session will be replaced.\n"
     ]
    },
    {
     "name": "stdout",
     "output_type": "stream",
     "text": [
      "{'1': 969, '0': 55}\n"
     ]
    }
   ],
   "source": [
    "proveedor=IBMQ.get_provider('ibm-q')\n",
    "comp_cuantico=proveedor.get_backend('ibmq_ourense')\n",
    "ejecucion=execute(circuito2,backend=comp_cuantico,shots=1024)\n",
    "resultado=ejecucion.result()\n",
    "counts=resultado.get_counts()\n",
    "print(counts)"
   ]
  },
  {
   "cell_type": "markdown",
   "metadata": {},
   "source": [
    "## 1.6  B)   Resultados del Algoritmo de Deutsch"
   ]
  },
  {
   "cell_type": "code",
   "execution_count": 7,
   "metadata": {
    "scrolled": true
   },
   "outputs": [
    {
     "data": {
      "image/png": "[encoded data removed]",
      "text/plain": [
       "<Figure size 504x360 with 1 Axes>"
      ]
     },
     "execution_count": 7,
     "metadata": {},
     "output_type": "execute_result"
    }
   ],
   "source": [
    "plot_histogram(counts)"
   ]
  },
  {
   "cell_type": "markdown",
   "metadata": {},
   "source": [
    "---\n",
    "---\n",
    "---\n",
    "# 2 Algoritmo de Deutsch-Jozsa\n",
    "\n",
    "## A) Tomemos la funcion $f(\\{0,1 \\}^2) = 1$\n",
    "\n",
    "### 2.1 A) Representancion de  Conjunto\n",
    "\n",
    "<img src=\"Imagenes/f2c.png\">\n",
    "\n",
    "\n",
    "\n"
   ]
  },
  {
   "cell_type": "markdown",
   "metadata": {},
   "source": [
    "### 2.2 B) Calculo de outputs\n",
    "\n",
    "<img src=\"Imagenes/uf2c.png\">"
   ]
  },
  {
   "cell_type": "markdown",
   "metadata": {},
   "source": [
    "### los qbits pasan de ser de arriba-abajo a izquierda-derecha  \n",
    "\n",
    "## 2.3   A) Matriz $U_f$\n",
    "## $$\n",
    "\\begin{array}{cc} \n",
    "\\begin{array} \t &&&   \\hspace{1.4cm} {\\tiny000} & {\\tiny001} & {\\tiny010} &{\\tiny011} & {\\tiny100} & {\\tiny101} & {\\tiny110} & {\\tiny111} \\\\\n",
    "\\end{array}\n",
    "\\\\\n",
    "U_f=\n",
    "\\begin{array}{ccc}\n",
    "000 \\\\\n",
    "001 \\\\\n",
    "010 \\\\\n",
    "011 \\\\\n",
    "100 \\\\\n",
    "101 \\\\\n",
    "110 \\\\\n",
    "111 \\\\\n",
    "\\end{array}\n",
    "\\begin{bmatrix}\n",
    "0 & \\hspace{0.2cm} 1 \\hspace{0.2cm}& \\hspace{0.2cm} 0  & \\hspace{0.2cm} 0 & \\hspace{0.2cm} 0 & \\hspace{0.2cm} 0  & \\hspace{0.2cm} 0 & \\hspace{0.4cm} 0\\\\\n",
    "1 & \\hspace{0.2cm} 0 \\hspace{0.2cm}& \\hspace{0.2cm} 0  & \\hspace{0.2cm} 0 & \\hspace{0.2cm} 0 & \\hspace{0.2cm} 0  & \\hspace{0.2cm} 0 & \\hspace{0.4cm} 0\\\\\n",
    "0 & \\hspace{0.2cm} 0 \\hspace{0.2cm}& \\hspace{0.2cm} 0  & \\hspace{0.2cm} 1 & \\hspace{0.2cm} 0 & \\hspace{0.2cm} 0  & \\hspace{0.2cm} 0 & \\hspace{0.4cm} 0\\\\\n",
    "0 & \\hspace{0.2cm} 0 \\hspace{0.2cm}& \\hspace{0.2cm} 1  & \\hspace{0.2cm} 0 & \\hspace{0.2cm} 0 & \\hspace{0.2cm} 0  & \\hspace{0.2cm} 0 & \\hspace{0.4cm} 0\\\\\n",
    "0 & \\hspace{0.2cm} 0 \\hspace{0.2cm}& \\hspace{0.2cm} 0  & \\hspace{0.2cm} 0 & \\hspace{0.2cm} 0 & \\hspace{0.2cm} 1  & \\hspace{0.2cm} 0 & \\hspace{0.4cm} 0\\\\\n",
    "0 & \\hspace{0.2cm} 0 \\hspace{0.2cm}& \\hspace{0.2cm} 0  & \\hspace{0.2cm} 0 & \\hspace{0.2cm} 1 & \\hspace{0.2cm} 0  & \\hspace{0.2cm} 0 & \\hspace{0.4cm} 0\\\\\n",
    "0 & \\hspace{0.2cm} 0 \\hspace{0.2cm}& \\hspace{0.2cm} 0  & \\hspace{0.2cm} 0 & \\hspace{0.2cm} 0 & \\hspace{0.2cm} 0  & \\hspace{0.2cm} 0 & \\hspace{0.4cm} 1\\\\\n",
    "0 & \\hspace{0.2cm} 0 \\hspace{0.2cm}& \\hspace{0.2cm} 0  & \\hspace{0.2cm} 0 & \\hspace{0.2cm} 0 & \\hspace{0.2cm} 0  & \\hspace{0.2cm} 1 & \\hspace{0.4cm} 0\\\\\n",
    "\\end{bmatrix}\n",
    "\\end{array}\n",
    "$$\n",
    "\n",
    "## Parece ser que se niega el ultimo qubit, para esto necesitaremos un compuerta $X$ en el tercer alambre"
   ]
  },
  {
   "cell_type": "code",
   "execution_count": 1,
   "metadata": {
    "scrolled": false
   },
   "outputs": [
    {
     "name": "stdout",
     "output_type": "stream",
     "text": [
      "[{0+0i}, {1+0i}, {0+0i}, {0+0i}, {0+0i}, {0+0i}, {0+0i}, {0+0i}]\n",
      "[{1+0i}, {0+0i}, {0+0i}, {0+0i}, {0+0i}, {0+0i}, {0+0i}, {0+0i}]\n",
      "[{0+0i}, {0+0i}, {0+0i}, {1+0i}, {0+0i}, {0+0i}, {0+0i}, {0+0i}]\n",
      "[{0+0i}, {0+0i}, {1+0i}, {0+0i}, {0+0i}, {0+0i}, {0+0i}, {0+0i}]\n",
      "[{0+0i}, {0+0i}, {0+0i}, {0+0i}, {0+0i}, {1+0i}, {0+0i}, {0+0i}]\n",
      "[{0+0i}, {0+0i}, {0+0i}, {0+0i}, {1+0i}, {0+0i}, {0+0i}, {0+0i}]\n",
      "[{0+0i}, {0+0i}, {0+0i}, {0+0i}, {0+0i}, {0+0i}, {0+0i}, {1+0i}]\n",
      "[{0+0i}, {0+0i}, {0+0i}, {0+0i}, {0+0i}, {0+0i}, {1+0i}, {0+0i}]\n",
      "\n"
     ]
    }
   ],
   "source": [
    "from Matriz_Compleja.libreriamatrices import prodtensorial as ten,identidad, multmat as mult ,matrizcompleja as mc\n",
    "from Simulador.simuladorcuantico import resultado as resultadoc\n",
    "X=mc([[(0,0),(1,0)],[(1,0),(0,0)]])\n",
    "ID=identidad(2)\n",
    "IDID=ten(ID,ID)\n",
    "ans=ten(IDID,X)\n",
    "print(ans)"
   ]
  },
  {
   "cell_type": "markdown",
   "metadata": {},
   "source": [
    "## 2.4  A)   Esto confirma por lo tanto el circuito de $U_f$ es siguiente:\n"
   ]
  },
  {
   "cell_type": "code",
   "execution_count": 6,
   "metadata": {
    "scrolled": false
   },
   "outputs": [
    {
     "data": {
      "image/png": "[encoded data removed]",
      "text/plain": [
       "<Figure size 238.392x204.68 with 1 Axes>"
      ]
     },
     "execution_count": 6,
     "metadata": {},
     "output_type": "execute_result"
    }
   ],
   "source": [
    "%matplotlib inline\n",
    "from qiskit import QuantumCircuit, execute, Aer, IBMQ\n",
    "from qiskit.compiler import transpile, assemble\n",
    "from qiskit.tools.jupyter import *\n",
    "from qiskit.visualization import *\n",
    "IBMQ.load_account()\n",
    "F2c=QuantumCircuit(3)\n",
    "F2c.x(2)\n",
    "F2c.draw(output='mpl')"
   ]
  },
  {
   "cell_type": "markdown",
   "metadata": {},
   "source": [
    "## 2.5  A)   Entonces procedemos a meter el circuito en una caja negra y a montar el circuito de Deutsch - Jozsa"
   ]
  },
  {
   "cell_type": "code",
   "execution_count": 19,
   "metadata": {
    "scrolled": false
   },
   "outputs": [
    {
     "data": {
      "image/png": "[encoded data removed]",
      "text/plain": [
       "<Figure size 780.192x264.88 with 1 Axes>"
      ]
     },
     "execution_count": 19,
     "metadata": {},
     "output_type": "execute_result"
    }
   ],
   "source": [
    "compuerta_uf=F2c.to_gate()\n",
    "compuerta_uf.name=\"   U_f   \"\n",
    "circuito2q=QuantumCircuit(3,2)\n",
    "circuito2q.x(2)\n",
    "circuito2q.barrier()\n",
    "circuito2q.h([0,1,2])\n",
    "circuito2q.append(compuerta_uf,[0,1,2])\n",
    "circuito2q.h([0,1])\n",
    "circuito2q.measure([0,1],[0,1])\n",
    "circuito2q.draw(output='mpl')"
   ]
  },
  {
   "cell_type": "code",
   "execution_count": 18,
   "metadata": {
    "scrolled": true
   },
   "outputs": [
    {
     "name": "stdout",
     "output_type": "stream",
     "text": [
      "{'00': 1}\n"
     ]
    }
   ],
   "source": [
    "proveedor=IBMQ.get_provider('ibm-q')\n",
    "comp_cuantico=proveedor.get_backend('ibmq_ourense')\n",
    "ejecucion=execute(circuito2q,backend=comp_cuantico,shots=1)\n",
    "resultado=ejecucion.result()\n",
    "counts=resultado.get_counts()\n",
    "print(counts)"
   ]
  },
  {
   "cell_type": "markdown",
   "metadata": {},
   "source": [
    "## 2.6  A)   Resultados del Algoritmo de Deutsch-Jozsa"
   ]
  },
  {
   "cell_type": "code",
   "execution_count": 20,
   "metadata": {
    "scrolled": true
   },
   "outputs": [
    {
     "data": {
      "image/png": "[encoded data removed]",
      "text/plain": [
       "<Figure size 504x360 with 1 Axes>"
      ]
     },
     "execution_count": 20,
     "metadata": {},
     "output_type": "execute_result"
    }
   ],
   "source": [
    "plot_histogram(counts)"
   ]
  },
  {
   "cell_type": "markdown",
   "metadata": {},
   "source": [
    "## 2.7 A) Conclusiones\n",
    "\n",
    "### Concluimos que la funcion es constante como deberia ser ya que colapsara al estado ${\\displaystyle | 00\\rangle }$ con mayoria"
   ]
  },
  {
   "cell_type": "markdown",
   "metadata": {},
   "source": [
    "---\n",
    "---\n",
    "---\n",
    "\n",
    "## B) Tomemos la funcion que determina si el numero binario es par o impar \n",
    "## $f(\\{0,1 \\}^2) = 0 $ si es par , $1$ si es impar (0 se considera como par )\n",
    "\n",
    "### 2.1 B) Representancion de  Conjunto\n",
    "\n",
    "<img src=\"Imagenes/f2qc.png\">\n",
    "\n",
    "\n",
    "\n"
   ]
  },
  {
   "cell_type": "markdown",
   "metadata": {},
   "source": [
    "### 2.2 B) Calculo de outputs\n",
    "\n",
    "<img src=\"Imagenes/uf2qc.png\">"
   ]
  },
  {
   "cell_type": "markdown",
   "metadata": {},
   "source": [
    "### los qbits pasan de ser de arriba-abajo a izquierda-derecha  \n",
    "\n",
    "## 2.3   A) Matriz $U_f$\n",
    "## $$\n",
    "\\begin{array}{cc} \n",
    "\\begin{array} \t &&&   \\hspace{1.4cm} {\\tiny000} & {\\tiny001} & {\\tiny010} &{\\tiny011} & {\\tiny100} & {\\tiny101} & {\\tiny110} & {\\tiny111} \\\\\n",
    "\\end{array}\n",
    "\\\\\n",
    "U_f=\n",
    "\\begin{array}{ccc}\n",
    "000 \\\\\n",
    "001 \\\\\n",
    "010 \\\\\n",
    "011 \\\\\n",
    "100 \\\\\n",
    "101 \\\\\n",
    "110 \\\\\n",
    "111 \\\\\n",
    "\\end{array}\n",
    "\\begin{bmatrix}\n",
    "1 & \\hspace{0.2cm} 0 \\hspace{0.2cm}& \\hspace{0.2cm} 0  & \\hspace{0.2cm} 0 & \\hspace{0.2cm} 0 & \\hspace{0.2cm} 0  & \\hspace{0.2cm} 0 & \\hspace{0.4cm} 0\\\\\n",
    "0 & \\hspace{0.2cm} 1 \\hspace{0.2cm}& \\hspace{0.2cm} 0  & \\hspace{0.2cm} 0 & \\hspace{0.2cm} 0 & \\hspace{0.2cm} 0  & \\hspace{0.2cm} 0 & \\hspace{0.4cm} 0\\\\\n",
    "0 & \\hspace{0.2cm} 0 \\hspace{0.2cm}& \\hspace{0.2cm} 0  & \\hspace{0.2cm} 1 & \\hspace{0.2cm} 0 & \\hspace{0.2cm} 0  & \\hspace{0.2cm} 0 & \\hspace{0.4cm} 0\\\\\n",
    "0 & \\hspace{0.2cm} 0 \\hspace{0.2cm}& \\hspace{0.2cm} 1  & \\hspace{0.2cm} 0 & \\hspace{0.2cm} 0 & \\hspace{0.2cm} 0  & \\hspace{0.2cm} 0 & \\hspace{0.4cm} 0\\\\\n",
    "0 & \\hspace{0.2cm} 0 \\hspace{0.2cm}& \\hspace{0.2cm} 0  & \\hspace{0.2cm} 0 & \\hspace{0.2cm} 1 & \\hspace{0.2cm} 0  & \\hspace{0.2cm} 0 & \\hspace{0.4cm} 0\\\\\n",
    "0 & \\hspace{0.2cm} 0 \\hspace{0.2cm}& \\hspace{0.2cm} 0  & \\hspace{0.2cm} 0 & \\hspace{0.2cm} 0 & \\hspace{0.2cm} 1  & \\hspace{0.2cm} 0 & \\hspace{0.4cm} 0\\\\\n",
    "0 & \\hspace{0.2cm} 0 \\hspace{0.2cm}& \\hspace{0.2cm} 0  & \\hspace{0.2cm} 0 & \\hspace{0.2cm} 0 & \\hspace{0.2cm} 0  & \\hspace{0.2cm} 0 & \\hspace{0.4cm} 1\\\\\n",
    "0 & \\hspace{0.2cm} 0 \\hspace{0.2cm}& \\hspace{0.2cm} 0  & \\hspace{0.2cm} 0 & \\hspace{0.2cm} 0 & \\hspace{0.2cm} 0  & \\hspace{0.2cm} 1 & \\hspace{0.4cm} 0\\\\\n",
    "\\end{bmatrix}\n",
    "\\end{array}\n",
    "$$\n",
    "\n",
    "## Si el segundo qubit es 1 cambia el tercero, por lo que utilizaremos una compuerta CNOT con target en 3 alambre y controlador en el 2"
   ]
  },
  {
   "cell_type": "code",
   "execution_count": 21,
   "metadata": {
    "scrolled": false
   },
   "outputs": [
    {
     "name": "stdout",
     "output_type": "stream",
     "text": [
      "[{1+0i}, {0+0i}, {0+0i}, {0+0i}, {0+0i}, {0+0i}, {0+0i}, {0+0i}]\n",
      "[{0+0i}, {1+0i}, {0+0i}, {0+0i}, {0+0i}, {0+0i}, {0+0i}, {0+0i}]\n",
      "[{0+0i}, {0+0i}, {0+0i}, {1+0i}, {0+0i}, {0+0i}, {0+0i}, {0+0i}]\n",
      "[{0+0i}, {0+0i}, {1+0i}, {0+0i}, {0+0i}, {0+0i}, {0+0i}, {0+0i}]\n",
      "[{0+0i}, {0+0i}, {0+0i}, {0+0i}, {1+0i}, {0+0i}, {0+0i}, {0+0i}]\n",
      "[{0+0i}, {0+0i}, {0+0i}, {0+0i}, {0+0i}, {1+0i}, {0+0i}, {0+0i}]\n",
      "[{0+0i}, {0+0i}, {0+0i}, {0+0i}, {0+0i}, {0+0i}, {0+0i}, {1+0i}]\n",
      "[{0+0i}, {0+0i}, {0+0i}, {0+0i}, {0+0i}, {0+0i}, {1+0i}, {0+0i}]\n",
      "\n"
     ]
    }
   ],
   "source": [
    "from Matriz_Compleja.libreriamatrices import prodtensorial as ten,identidad, multmat as mult ,matrizcompleja as mc\n",
    "from Simulador.simuladorcuantico import resultado as resultadoc\n",
    "X=mc([[(0,0),(1,0)],[(1,0),(0,0)]])\n",
    "CNOT=mc([\n",
    "        [(1,0),(0,0),(0,0),(0,0)],\n",
    "        [(0,0),(1,0),(0,0),(0,0)],\n",
    "        [(0,0),(0,0),(0,0),(1,0)],\n",
    "        [(0,0),(0,0),(1,0),(0,0)]\n",
    "    ])\n",
    "ID=identidad(2)\n",
    "ans=ten(ID,CNOT)\n",
    "print(ans)"
   ]
  },
  {
   "cell_type": "markdown",
   "metadata": {},
   "source": [
    "## 2.4  B)   Esto confirma por lo tanto el circuito de $U_f$ es siguiente:\n"
   ]
  },
  {
   "cell_type": "code",
   "execution_count": 25,
   "metadata": {
    "scrolled": false
   },
   "outputs": [
    {
     "data": {
      "image/png": "[encoded data removed]",
      "text/plain": [
       "<Figure size 238.392x204.68 with 1 Axes>"
      ]
     },
     "execution_count": 25,
     "metadata": {},
     "output_type": "execute_result"
    }
   ],
   "source": [
    "%matplotlib inline\n",
    "from qiskit import QuantumCircuit, execute, Aer, IBMQ\n",
    "from qiskit.compiler import transpile, assemble\n",
    "from qiskit.tools.jupyter import *\n",
    "from qiskit.visualization import *\n",
    "IBMQ.load_account()\n",
    "F2qb=QuantumCircuit(3)\n",
    "F2qb.cx(1,2)\n",
    "F2qb.draw(output='mpl')"
   ]
  },
  {
   "cell_type": "markdown",
   "metadata": {},
   "source": [
    "## 2.5  B)   Entonces procedemos a meter el circuito en una caja negra y a montar el circuito de Deutsch - Jozsa"
   ]
  },
  {
   "cell_type": "code",
   "execution_count": 27,
   "metadata": {
    "scrolled": false
   },
   "outputs": [
    {
     "data": {
      "image/png": "[encoded data removed]",
      "text/plain": [
       "<Figure size 780.192x264.88 with 1 Axes>"
      ]
     },
     "execution_count": 27,
     "metadata": {},
     "output_type": "execute_result"
    }
   ],
   "source": [
    "compuerta_uf=F2qb.to_gate()\n",
    "compuerta_uf.name=\"   U_f   \"\n",
    "circuito2qb=QuantumCircuit(3,2)\n",
    "circuito2qb.x(2)\n",
    "circuito2qb.barrier()\n",
    "circuito2qb.h([0,1,2])\n",
    "circuito2qb.append(compuerta_uf,[0,1,2])\n",
    "circuito2qb.h([0,1])\n",
    "circuito2qb.measure([0,1],[0,1])\n",
    "circuito2qb.draw(output='mpl')"
   ]
  },
  {
   "cell_type": "code",
   "execution_count": 28,
   "metadata": {
    "scrolled": true
   },
   "outputs": [
    {
     "name": "stdout",
     "output_type": "stream",
     "text": [
      "{'10': 951, '00': 50, '01': 3, '11': 20}\n"
     ]
    }
   ],
   "source": [
    "proveedor=IBMQ.get_provider('ibm-q')\n",
    "comp_cuantico=proveedor.get_backend('ibmq_ourense')\n",
    "ejecucion=execute(circuito2qb,backend=comp_cuantico,shots=1024)\n",
    "resultado=ejecucion.result()\n",
    "counts=resultado.get_counts()\n",
    "print(counts)"
   ]
  },
  {
   "cell_type": "markdown",
   "metadata": {},
   "source": [
    "## 2.6  A)   Resultados del Algoritmo de Deutsch-Jozsa"
   ]
  },
  {
   "cell_type": "code",
   "execution_count": 29,
   "metadata": {
    "scrolled": false
   },
   "outputs": [
    {
     "data": {
      "image/png": "[encoded data removed]",
      "text/plain": [
       "<Figure size 504x360 with 1 Axes>"
      ]
     },
     "execution_count": 29,
     "metadata": {},
     "output_type": "execute_result"
    }
   ],
   "source": [
    "plot_histogram(counts)"
   ]
  },
  {
   "cell_type": "markdown",
   "metadata": {},
   "source": [
    "## 2.7 B) Conclusiones\n",
    "\n",
    "### Concluimos que la funcion es balanceada como deberia ser ya que es POCO probable que colapse al estado ${\\displaystyle | 00\\rangle }$, curiosamente si con mayoria en  ${\\displaystyle | 10\\rangle }$"
   ]
  },
  {
   "cell_type": "markdown",
   "metadata": {},
   "source": [
    "---\n",
    "----\n",
    "\n",
    "---\n",
    "\n",
    "# 3 Ilustrar el Algoritmo de Deutsch-Jozsa para 1 función con $n>=3$: "
   ]
  },
  {
   "cell_type": "markdown",
   "metadata": {},
   "source": [
    "## Pensemos en la funcion palindrome \n",
    "\n",
    "## $ f(\\{0,1\\}^3) = 1 $ si es palindrome , $ 0 $ de lo contrario"
   ]
  },
  {
   "cell_type": "markdown",
   "metadata": {},
   "source": [
    "## 3.1 Representacion de Conjunto"
   ]
  },
  {
   "cell_type": "markdown",
   "metadata": {},
   "source": [
    "<img src=\"Imagenes/fpalindrome.png\">"
   ]
  },
  {
   "cell_type": "markdown",
   "metadata": {},
   "source": [
    "## Calculo de outputs"
   ]
  },
  {
   "cell_type": "markdown",
   "metadata": {},
   "source": [
    "<img src=\"Imagenes/ufpalindrome.png\">"
   ]
  },
  {
   "cell_type": "markdown",
   "metadata": {},
   "source": [
    "\n",
    "## 3.3   A) Matriz $U_f$\n",
    "### $$\n",
    "\\begin{array}{cc} \n",
    "\\begin{array} \t&&&  \\hspace{2.2cm} {\\tiny0000} & {\\tiny0001} & {\\tiny0010} &{\\tiny0011} & \n",
    " {\\tiny0100} & {\\tiny0101} & {\\tiny0110} &{\\tiny0111} &\n",
    " {\\tiny1000} & {\\tiny1001} & {\\tiny1010} &{\\tiny1011}  &\n",
    " {\\tiny1100} & {\\tiny1101} & {\\tiny1110} &{\\tiny1111} &\n",
    " \\\\\n",
    "\\end{array}\n",
    "\\\\\n",
    "U_f=\n",
    "\\begin{array}{ccc}\n",
    "0000 \\\\\n",
    "0001 \\\\\n",
    "0010 \\\\\n",
    "0011 \\\\\n",
    "0100 \\\\\n",
    "0101 \\\\\n",
    "0110 \\\\\n",
    "0111 \\\\\n",
    "1000 \\\\\n",
    "1001 \\\\\n",
    "1010 \\\\\n",
    "1011 \\\\\n",
    "1100 \\\\\n",
    "1101 \\\\\n",
    "1110 \\\\\n",
    "1111 \\\\\n",
    "\\end{array}\n",
    "\\begin{bmatrix}\n",
    "0 & \\hspace{0.2cm} 1 \\hspace{0.2cm}& \\hspace{0.2cm} 0 \\hspace{0.2cm} & \\hspace{0.2cm} 0  \\hspace{0.2cm} & \n",
    "0 & \\hspace{0.2cm} 0 \\hspace{0.2cm} & \\hspace{0.2cm} 0 \\hspace{0.2cm}& \\hspace{0.2cm} 0  \\hspace{0.2cm}& \n",
    "0 & \\hspace{0.2cm} 0 \\hspace{0.2cm}& \\hspace{0.2cm} 0 \\hspace{0.2cm} & \\hspace{0.2cm} 0  \\hspace{0.2cm}& \n",
    "0 & \\hspace{0.2cm} 0 \\hspace{0.2cm} & \\hspace{0.2cm} 0 \\hspace{0.2cm}& \\hspace{0.2cm} 0   \\hspace{0.2cm}\\\\\n",
    "1 & \\hspace{0.2cm} 0 \\hspace{0.2cm}& \\hspace{0.2cm} 0 \\hspace{0.2cm} & \\hspace{0.2cm} 0  \\hspace{0.2cm} & \n",
    "0 & \\hspace{0.2cm} 0 \\hspace{0.2cm} & \\hspace{0.2cm} 0 \\hspace{0.2cm}& \\hspace{0.2cm} 0  \\hspace{0.2cm}& \n",
    "0 & \\hspace{0.2cm} 0 \\hspace{0.2cm}& \\hspace{0.2cm} 0 \\hspace{0.2cm} & \\hspace{0.2cm} 0  \\hspace{0.2cm}& \n",
    "0 & \\hspace{0.2cm} 0 \\hspace{0.2cm} & \\hspace{0.2cm} 0 \\hspace{0.2cm}& \\hspace{0.2cm} 0   \\hspace{0.2cm}\\\\\n",
    "0 & \\hspace{0.2cm} 0 \\hspace{0.2cm}& \\hspace{0.2cm} 1 \\hspace{0.2cm} & \\hspace{0.2cm} 0  \\hspace{0.2cm} & \n",
    "0 & \\hspace{0.2cm} 0 \\hspace{0.2cm} & \\hspace{0.2cm} 0 \\hspace{0.2cm}& \\hspace{0.2cm} 0  \\hspace{0.2cm}& \n",
    "0 & \\hspace{0.2cm} 0 \\hspace{0.2cm}& \\hspace{0.2cm} 0 \\hspace{0.2cm} & \\hspace{0.2cm} 0  \\hspace{0.2cm}& \n",
    "0 & \\hspace{0.2cm} 0 \\hspace{0.2cm} & \\hspace{0.2cm} 0 \\hspace{0.2cm}& \\hspace{0.2cm} 0   \\hspace{0.2cm}\\\\\n",
    "0 & \\hspace{0.2cm} 0 \\hspace{0.2cm}& \\hspace{0.2cm} 0 \\hspace{0.2cm} & \\hspace{0.2cm} 1  \\hspace{0.2cm} & \n",
    "0 & \\hspace{0.2cm} 0 \\hspace{0.2cm} & \\hspace{0.2cm} 0 \\hspace{0.2cm}& \\hspace{0.2cm} 0  \\hspace{0.2cm}& \n",
    "0 & \\hspace{0.2cm} 0 \\hspace{0.2cm}& \\hspace{0.2cm} 0 \\hspace{0.2cm} & \\hspace{0.2cm} 0  \\hspace{0.2cm}& \n",
    "0 & \\hspace{0.2cm} 0 \\hspace{0.2cm} & \\hspace{0.2cm} 0 \\hspace{0.2cm}& \\hspace{0.2cm} 0   \\hspace{0.2cm}\\\\\n",
    "0 & \\hspace{0.2cm} 0 \\hspace{0.2cm}& \\hspace{0.2cm} 0 \\hspace{0.2cm} & \\hspace{0.2cm} 0  \\hspace{0.2cm} & \n",
    "0 & \\hspace{0.2cm} 1 \\hspace{0.2cm} & \\hspace{0.2cm} 0 \\hspace{0.2cm}& \\hspace{0.2cm} 0  \\hspace{0.2cm}& \n",
    "0 & \\hspace{0.2cm} 0 \\hspace{0.2cm}& \\hspace{0.2cm} 0 \\hspace{0.2cm} & \\hspace{0.2cm} 0  \\hspace{0.2cm}& \n",
    "0 & \\hspace{0.2cm} 0 \\hspace{0.2cm} & \\hspace{0.2cm} 0 \\hspace{0.2cm}& \\hspace{0.2cm} 0   \\hspace{0.2cm}\\\\\n",
    "0 & \\hspace{0.2cm} 0 \\hspace{0.2cm}& \\hspace{0.2cm} 0 \\hspace{0.2cm} & \\hspace{0.2cm} 0  \\hspace{0.2cm} & \n",
    "1 & \\hspace{0.2cm} 0 \\hspace{0.2cm} & \\hspace{0.2cm} 0 \\hspace{0.2cm}& \\hspace{0.2cm} 0  \\hspace{0.2cm}& \n",
    "0 & \\hspace{0.2cm} 0 \\hspace{0.2cm}& \\hspace{0.2cm} 0 \\hspace{0.2cm} & \\hspace{0.2cm} 0  \\hspace{0.2cm}& \n",
    "0 & \\hspace{0.2cm} 0 \\hspace{0.2cm} & \\hspace{0.2cm} 0 \\hspace{0.2cm}& \\hspace{0.2cm} 0   \\hspace{0.2cm}\\\\\n",
    "0 & \\hspace{0.2cm} 0 \\hspace{0.2cm}& \\hspace{0.2cm} 0 \\hspace{0.2cm} & \\hspace{0.2cm} 0  \\hspace{0.2cm} & \n",
    "0 & \\hspace{0.2cm} 0 \\hspace{0.2cm} & \\hspace{0.2cm} 1 \\hspace{0.2cm}& \\hspace{0.2cm} 0  \\hspace{0.2cm}& \n",
    "0 & \\hspace{0.2cm} 0 \\hspace{0.2cm}& \\hspace{0.2cm} 0 \\hspace{0.2cm} & \\hspace{0.2cm} 0  \\hspace{0.2cm}& \n",
    "0 & \\hspace{0.2cm} 0 \\hspace{0.2cm} & \\hspace{0.2cm} 0 \\hspace{0.2cm}& \\hspace{0.2cm} 0   \\hspace{0.2cm}\\\\\n",
    "0 & \\hspace{0.2cm} 0 \\hspace{0.2cm}& \\hspace{0.2cm} 0 \\hspace{0.2cm} & \\hspace{0.2cm} 0  \\hspace{0.2cm} & \n",
    "0 & \\hspace{0.2cm} 0 \\hspace{0.2cm} & \\hspace{0.2cm} 0 \\hspace{0.2cm}& \\hspace{0.2cm} 1  \\hspace{0.2cm}& \n",
    "0 & \\hspace{0.2cm} 0 \\hspace{0.2cm}& \\hspace{0.2cm} 0 \\hspace{0.2cm} & \\hspace{0.2cm} 0  \\hspace{0.2cm}& \n",
    "0 & \\hspace{0.2cm} 0 \\hspace{0.2cm} & \\hspace{0.2cm} 0 \\hspace{0.2cm}& \\hspace{0.2cm} 0   \\hspace{0.2cm}\\\\\n",
    "0 & \\hspace{0.2cm} 0 \\hspace{0.2cm}& \\hspace{0.2cm} 0 \\hspace{0.2cm} & \\hspace{0.2cm} 0  \\hspace{0.2cm} & \n",
    "0 & \\hspace{0.2cm} 0 \\hspace{0.2cm} & \\hspace{0.2cm} 0 \\hspace{0.2cm}& \\hspace{0.2cm} 0  \\hspace{0.2cm}& \n",
    "1 & \\hspace{0.2cm} 0 \\hspace{0.2cm}& \\hspace{0.2cm} 0 \\hspace{0.2cm} & \\hspace{0.2cm} 0  \\hspace{0.2cm}& \n",
    "0 & \\hspace{0.2cm} 0 \\hspace{0.2cm} & \\hspace{0.2cm} 0 \\hspace{0.2cm}& \\hspace{0.2cm} 0   \\hspace{0.2cm}\\\\\n",
    "0 & \\hspace{0.2cm} 0 \\hspace{0.2cm}& \\hspace{0.2cm} 0 \\hspace{0.2cm} & \\hspace{0.2cm} 0  \\hspace{0.2cm} & \n",
    "0 & \\hspace{0.2cm} 0 \\hspace{0.2cm} & \\hspace{0.2cm} 0 \\hspace{0.2cm}& \\hspace{0.2cm} 0  \\hspace{0.2cm}& \n",
    "0 & \\hspace{0.2cm} 1 \\hspace{0.2cm}& \\hspace{0.2cm} 0 \\hspace{0.2cm} & \\hspace{0.2cm} 0  \\hspace{0.2cm}& \n",
    "0 & \\hspace{0.2cm} 0 \\hspace{0.2cm} & \\hspace{0.2cm} 0 \\hspace{0.2cm}& \\hspace{0.2cm} 0   \\hspace{0.2cm}\\\\\n",
    "0 & \\hspace{0.2cm} 0 \\hspace{0.2cm}& \\hspace{0.2cm} 0 \\hspace{0.2cm} & \\hspace{0.2cm} 0  \\hspace{0.2cm} & \n",
    "0 & \\hspace{0.2cm} 0 \\hspace{0.2cm} & \\hspace{0.2cm} 0 \\hspace{0.2cm}& \\hspace{0.2cm} 0  \\hspace{0.2cm}& \n",
    "0 & \\hspace{0.2cm} 0 \\hspace{0.2cm}& \\hspace{0.2cm} 0 \\hspace{0.2cm} & \\hspace{0.2cm} 1  \\hspace{0.2cm}& \n",
    "0 & \\hspace{0.2cm} 0 \\hspace{0.2cm} & \\hspace{0.2cm} 0 \\hspace{0.2cm}& \\hspace{0.2cm} 0   \\hspace{0.2cm}\\\\\n",
    "0 & \\hspace{0.2cm} 0 \\hspace{0.2cm}& \\hspace{0.2cm} 0 \\hspace{0.2cm} & \\hspace{0.2cm} 0  \\hspace{0.2cm} & \n",
    "0 & \\hspace{0.2cm} 0 \\hspace{0.2cm} & \\hspace{0.2cm} 0 \\hspace{0.2cm}& \\hspace{0.2cm} 0  \\hspace{0.2cm}& \n",
    "0 & \\hspace{0.2cm} 0 \\hspace{0.2cm}& \\hspace{0.2cm} 1 \\hspace{0.2cm} & \\hspace{0.2cm} 0  \\hspace{0.2cm}& \n",
    "0 & \\hspace{0.2cm} 0 \\hspace{0.2cm} & \\hspace{0.2cm} 0 \\hspace{0.2cm}& \\hspace{0.2cm} 0   \\hspace{0.2cm}\\\\\n",
    "0 & \\hspace{0.2cm} 0 \\hspace{0.2cm}& \\hspace{0.2cm} 0 \\hspace{0.2cm} & \\hspace{0.2cm} 0  \\hspace{0.2cm} & \n",
    "0 & \\hspace{0.2cm} 0 \\hspace{0.2cm} & \\hspace{0.2cm} 0 \\hspace{0.2cm}& \\hspace{0.2cm} 0  \\hspace{0.2cm}& \n",
    "0 & \\hspace{0.2cm} 0 \\hspace{0.2cm}& \\hspace{0.2cm} 0 \\hspace{0.2cm} & \\hspace{0.2cm} 0  \\hspace{0.2cm}& \n",
    "1 & \\hspace{0.2cm} 0 \\hspace{0.2cm} & \\hspace{0.2cm} 0 \\hspace{0.2cm}& \\hspace{0.2cm} 0   \\hspace{0.2cm}\\\\\n",
    "0 & \\hspace{0.2cm} 0 \\hspace{0.2cm}& \\hspace{0.2cm} 0 \\hspace{0.2cm} & \\hspace{0.2cm} 0  \\hspace{0.2cm} & \n",
    "0 & \\hspace{0.2cm} 0 \\hspace{0.2cm} & \\hspace{0.2cm} 0 \\hspace{0.2cm}& \\hspace{0.2cm} 0  \\hspace{0.2cm}& \n",
    "0 & \\hspace{0.2cm} 0 \\hspace{0.2cm}& \\hspace{0.2cm} 0 \\hspace{0.2cm} & \\hspace{0.2cm} 0  \\hspace{0.2cm}& \n",
    "0 & \\hspace{0.2cm} 1 \\hspace{0.2cm} & \\hspace{0.2cm} 0 \\hspace{0.2cm}& \\hspace{0.2cm} 0   \\hspace{0.2cm}\\\\\n",
    "0 & \\hspace{0.2cm} 0 \\hspace{0.2cm}& \\hspace{0.2cm} 0 \\hspace{0.2cm} & \\hspace{0.2cm} 0  \\hspace{0.2cm} & \n",
    "0 & \\hspace{0.2cm} 0 \\hspace{0.2cm} & \\hspace{0.2cm} 0 \\hspace{0.2cm}& \\hspace{0.2cm} 0  \\hspace{0.2cm}& \n",
    "0 & \\hspace{0.2cm} 0 \\hspace{0.2cm}& \\hspace{0.2cm} 0 \\hspace{0.2cm} & \\hspace{0.2cm} 0  \\hspace{0.2cm}& \n",
    "0 & \\hspace{0.2cm} 0 \\hspace{0.2cm} & \\hspace{0.2cm} 0 \\hspace{0.2cm}& \\hspace{0.2cm} 1   \\hspace{0.2cm}\\\\\n",
    "0 & \\hspace{0.2cm} 0 \\hspace{0.2cm}& \\hspace{0.2cm} 0 \\hspace{0.2cm} & \\hspace{0.2cm} 0  \\hspace{0.2cm} & \n",
    "0 & \\hspace{0.2cm} 0 \\hspace{0.2cm} & \\hspace{0.2cm} 0 \\hspace{0.2cm}& \\hspace{0.2cm} 0  \\hspace{0.2cm}& \n",
    "0 & \\hspace{0.2cm} 0 \\hspace{0.2cm}& \\hspace{0.2cm} 0 \\hspace{0.2cm} & \\hspace{0.2cm} 0  \\hspace{0.2cm}& \n",
    "0 & \\hspace{0.2cm} 0 \\hspace{0.2cm} & \\hspace{0.2cm} 1 \\hspace{0.2cm}& \\hspace{0.2cm} 0   \\hspace{0.2cm}\n",
    "\\end{bmatrix}\n",
    "\\end{array}\n",
    "$$"
   ]
  },
  {
   "cell_type": "markdown",
   "metadata": {},
   "source": [
    "## 3.4 y 3.5 Parece ser que es una equivalencia, entre 0 y 2 combinado con un CNOT con target en 3, lo cual podemos hacer de la siguiente manera\n",
    "## Los qubits en orden $ x , y , z, w  $ \n",
    "## si  $$   (x \\equiv z )\\equiv \\neg ( x \\oplus z) $$\n",
    "## entonces $$  w \\oplus \\neg ( x \\oplus z) $$\n",
    "## y podemos intentar demostrar para estos casos particulares \n",
    "| ${\\huge x}$ | ${\\huge z}$ | ${\\huge w}$ | ${\\huge \\hspace{2cm}  \\neg ( x \\oplus z) \\oplus w}$ |\n",
    "| --- | --- | --- |-----------|\n",
    "| ${\\huge 0}$ | ${\\huge 0}$ | ${\\huge 0}$ | ${\\huge \\hspace{2.2cm}  1    }$   |\n",
    "| ${\\huge 0}$ | ${\\huge 0}$ | ${\\huge 1}$ | ${\\huge \\hspace{2.2cm}  0    }$   |\n",
    "| ${\\huge 0}$ | ${\\huge 1}$ | ${\\huge 0}$ | ${\\huge \\hspace{2.2cm}  0    }$   |\n",
    "| ${\\huge 0}$ | ${\\huge 1}$ | ${\\huge 1}$ | ${\\huge \\hspace{2.2cm}  1    }$   |\n",
    "| ${\\huge 1}$ | ${\\huge 0}$ | ${\\huge 0}$ | ${\\huge \\hspace{2.2cm}  0    }$   |\n",
    "| ${\\huge 1}$ | ${\\huge 0}$ | ${\\huge 1}$ | ${\\huge \\hspace{2.2cm}  1    }$   |\n",
    "| ${\\huge 1}$ | ${\\huge 1}$ | ${\\huge 0}$ | ${\\huge \\hspace{2.2cm}  1    }$   |\n",
    "| ${\\huge 1}$ | ${\\huge 1}$ | ${\\huge 1}$ | ${\\huge \\hspace{2.2cm}  0    }$   |\n",
    "\n",
    "## De esta tabla nos concentraremos en los valores que  $  \\neg ( x \\oplus z) \\oplus w \\not \\equiv w$"
   ]
  },
  {
   "cell_type": "markdown",
   "metadata": {},
   "source": [
    "## Serian las cadenas $000$ , $001$, $110$ , $111$ entonces podemos afirmar que para todas las cadenas de la forma $0x00$, $0x01$, $1x10$ y $1x11$  iran a parar a $0x01$, $0x00$, $1x11$ , $1x10$ respectivamente , y el resto de cadenas seguiran intactas.\n",
    "\n",
    "| ${\\huge Cadena}$ | ${\\huge Resultado}$ |\n",
    "| --- | --- |\n",
    "| ${\\huge |0|0|00|}$ | ${\\huge 0001}$ |\n",
    "| ${\\huge |0|1|00|}$ | ${\\huge 0101}$ |\n",
    "| ${\\huge |0|0|01|}$ | ${\\huge 0000}$ |\n",
    "| ${\\huge |0|1|01|}$ | ${\\huge 0100}$ |\n",
    "| ${\\huge |1|0|10|}$ | ${\\huge 1011}$ |\n",
    "| ${\\huge |1|1|10|}$ | ${\\huge 1111}$ |\n",
    "| ${\\huge |1|0|11|}$ | ${\\huge 1010}$ |\n",
    "| ${\\huge |1|1|11|}$ | ${\\huge 1110}$ |\n",
    "\n",
    "<img src=\"Imagenes/Explicacion.PNG\">"
   ]
  },
  {
   "cell_type": "markdown",
   "metadata": {},
   "source": [
    "## Lo cual coincide con la tabla de $U_f$ , procedemos a generar el calculo\n",
    "## 1. Con una compuerta CNOT de con target en 2 y control en 0 , negadola con una $X$ esto nos dara $  \\neg ( x \\oplus z)$\n",
    "\n",
    "## 2. Con una compuerta CNOT con target en 3 y control en 2, nos dara $  w \\oplus \\neg ( x \\oplus z)$\n",
    "\n",
    "## 3. Le haremos \"Rollback\" al alambre 2 con una compuerta $X$ y CNOT (del #1).\n",
    "\n",
    "### Para esto necesitamos un CNOT tradicional y uno diferente (el 1)  que es el que tiene el control en 0 y target en 2 que resulta ser este : \n",
    "\n",
    "## $$\n",
    "\\begin{array}{cc} \n",
    "\\begin{array} \t &&&   \\hspace{4.5cm} {\\tiny000} & {\\tiny001} & {\\tiny010} &{\\tiny011} & {\\tiny100} & {\\tiny101} & {\\tiny110} & {\\tiny111} \\\\\n",
    "\\end{array}\n",
    "\\\\\n",
    "CNOT(0,2)=\n",
    "\\begin{array}{ccc}\n",
    "000 \\\\\n",
    "001 \\\\\n",
    "010 \\\\\n",
    "011 \\\\\n",
    "100 \\\\\n",
    "101 \\\\\n",
    "110 \\\\\n",
    "111 \\\\\n",
    "\\end{array}\n",
    "\\begin{bmatrix}\n",
    "1 & \\hspace{0.2cm} 0 \\hspace{0.2cm}& \\hspace{0.2cm} 0  & \\hspace{0.2cm} 0 & \\hspace{0.2cm} 0 & \\hspace{0.2cm} 0  & \\hspace{0.2cm} 0 & \\hspace{0.4cm} 0\\\\\n",
    "0 & \\hspace{0.2cm} 1 \\hspace{0.2cm}& \\hspace{0.2cm} 0  & \\hspace{0.2cm} 0 & \\hspace{0.2cm} 0 & \\hspace{0.2cm} 0  & \\hspace{0.2cm} 0 & \\hspace{0.4cm} 0\\\\\n",
    "0 & \\hspace{0.2cm} 0 \\hspace{0.2cm}& \\hspace{0.2cm} 1  & \\hspace{0.2cm} 0 & \\hspace{0.2cm} 0 & \\hspace{0.2cm} 0  & \\hspace{0.2cm} 0 & \\hspace{0.4cm} 0\\\\\n",
    "0 & \\hspace{0.2cm} 0 \\hspace{0.2cm}& \\hspace{0.2cm} 0  & \\hspace{0.2cm} 1 & \\hspace{0.2cm} 0 & \\hspace{0.2cm} 0  & \\hspace{0.2cm} 0 & \\hspace{0.4cm} 0\\\\\n",
    "0 & \\hspace{0.2cm} 0 \\hspace{0.2cm}& \\hspace{0.2cm} 0  & \\hspace{0.2cm} 0 & \\hspace{0.2cm} 0 & \\hspace{0.2cm} 1  & \\hspace{0.2cm} 0 & \\hspace{0.4cm} 0\\\\\n",
    "0 & \\hspace{0.2cm} 0 \\hspace{0.2cm}& \\hspace{0.2cm} 0  & \\hspace{0.2cm} 0 & \\hspace{0.2cm} 1 & \\hspace{0.2cm} 0  & \\hspace{0.2cm} 0 & \\hspace{0.4cm} 0\\\\\n",
    "0 & \\hspace{0.2cm} 0 \\hspace{0.2cm}& \\hspace{0.2cm} 0  & \\hspace{0.2cm} 0 & \\hspace{0.2cm} 0 & \\hspace{0.2cm} 0  & \\hspace{0.2cm} 0 & \\hspace{0.4cm} 1\\\\\n",
    "0 & \\hspace{0.2cm} 0 \\hspace{0.2cm}& \\hspace{0.2cm} 0  & \\hspace{0.2cm} 0 & \\hspace{0.2cm} 0 & \\hspace{0.2cm} 0  & \\hspace{0.2cm} 1 & \\hspace{0.4cm} 0\\\\\n",
    "\\end{bmatrix}\n",
    "\\end{array}\n",
    "$$\n",
    "\n",
    "## Demostracion :"
   ]
  },
  {
   "cell_type": "code",
   "execution_count": 32,
   "metadata": {},
   "outputs": [
    {
     "name": "stdout",
     "output_type": "stream",
     "text": [
      "[{0+0i}, {1+0i}, {0+0i}, {0+0i}, {0+0i}, {0+0i}, {0+0i}, {0+0i}, {0+0i}, {0+0i}, {0+0i}, {0+0i}, {0+0i}, {0+0i}, {0+0i}, {0+0i}]\n",
      "[{1+0i}, {0+0i}, {0+0i}, {0+0i}, {0+0i}, {0+0i}, {0+0i}, {0+0i}, {0+0i}, {0+0i}, {0+0i}, {0+0i}, {0+0i}, {0+0i}, {0+0i}, {0+0i}]\n",
      "[{0+0i}, {0+0i}, {1+0i}, {0+0i}, {0+0i}, {0+0i}, {0+0i}, {0+0i}, {0+0i}, {0+0i}, {0+0i}, {0+0i}, {0+0i}, {0+0i}, {0+0i}, {0+0i}]\n",
      "[{0+0i}, {0+0i}, {0+0i}, {1+0i}, {0+0i}, {0+0i}, {0+0i}, {0+0i}, {0+0i}, {0+0i}, {0+0i}, {0+0i}, {0+0i}, {0+0i}, {0+0i}, {0+0i}]\n",
      "[{0+0i}, {0+0i}, {0+0i}, {0+0i}, {0+0i}, {1+0i}, {0+0i}, {0+0i}, {0+0i}, {0+0i}, {0+0i}, {0+0i}, {0+0i}, {0+0i}, {0+0i}, {0+0i}]\n",
      "[{0+0i}, {0+0i}, {0+0i}, {0+0i}, {1+0i}, {0+0i}, {0+0i}, {0+0i}, {0+0i}, {0+0i}, {0+0i}, {0+0i}, {0+0i}, {0+0i}, {0+0i}, {0+0i}]\n",
      "[{0+0i}, {0+0i}, {0+0i}, {0+0i}, {0+0i}, {0+0i}, {1+0i}, {0+0i}, {0+0i}, {0+0i}, {0+0i}, {0+0i}, {0+0i}, {0+0i}, {0+0i}, {0+0i}]\n",
      "[{0+0i}, {0+0i}, {0+0i}, {0+0i}, {0+0i}, {0+0i}, {0+0i}, {1+0i}, {0+0i}, {0+0i}, {0+0i}, {0+0i}, {0+0i}, {0+0i}, {0+0i}, {0+0i}]\n",
      "[{0+0i}, {0+0i}, {0+0i}, {0+0i}, {0+0i}, {0+0i}, {0+0i}, {0+0i}, {1+0i}, {0+0i}, {0+0i}, {0+0i}, {0+0i}, {0+0i}, {0+0i}, {0+0i}]\n",
      "[{0+0i}, {0+0i}, {0+0i}, {0+0i}, {0+0i}, {0+0i}, {0+0i}, {0+0i}, {0+0i}, {1+0i}, {0+0i}, {0+0i}, {0+0i}, {0+0i}, {0+0i}, {0+0i}]\n",
      "[{0+0i}, {0+0i}, {0+0i}, {0+0i}, {0+0i}, {0+0i}, {0+0i}, {0+0i}, {0+0i}, {0+0i}, {0+0i}, {1+0i}, {0+0i}, {0+0i}, {0+0i}, {0+0i}]\n",
      "[{0+0i}, {0+0i}, {0+0i}, {0+0i}, {0+0i}, {0+0i}, {0+0i}, {0+0i}, {0+0i}, {0+0i}, {1+0i}, {0+0i}, {0+0i}, {0+0i}, {0+0i}, {0+0i}]\n",
      "[{0+0i}, {0+0i}, {0+0i}, {0+0i}, {0+0i}, {0+0i}, {0+0i}, {0+0i}, {0+0i}, {0+0i}, {0+0i}, {0+0i}, {1+0i}, {0+0i}, {0+0i}, {0+0i}]\n",
      "[{0+0i}, {0+0i}, {0+0i}, {0+0i}, {0+0i}, {0+0i}, {0+0i}, {0+0i}, {0+0i}, {0+0i}, {0+0i}, {0+0i}, {0+0i}, {1+0i}, {0+0i}, {0+0i}]\n",
      "[{0+0i}, {0+0i}, {0+0i}, {0+0i}, {0+0i}, {0+0i}, {0+0i}, {0+0i}, {0+0i}, {0+0i}, {0+0i}, {0+0i}, {0+0i}, {0+0i}, {0+0i}, {1+0i}]\n",
      "[{0+0i}, {0+0i}, {0+0i}, {0+0i}, {0+0i}, {0+0i}, {0+0i}, {0+0i}, {0+0i}, {0+0i}, {0+0i}, {0+0i}, {0+0i}, {0+0i}, {1+0i}, {0+0i}]\n",
      "\n"
     ]
    }
   ],
   "source": [
    "from Matriz_Compleja.libreriamatrices import prodtensorial as ten,identidad, multmat as mult ,matrizcompleja as mc\n",
    "from Simulador.simuladorcuantico import resultado as resultadoc\n",
    "X=mc([[(0,0),(1,0)],[(1,0),(0,0)]])\n",
    "CNOTE=mc([\n",
    "        [(1,0),(0,0),(0,0),(0,0),(0,0),(0,0),(0,0),(0,0)],\n",
    "        [(0,0),(1,0),(0,0),(0,0),(0,0),(0,0),(0,0),(0,0)],\n",
    "        [(0,0),(0,0),(1,0),(0,0),(0,0),(0,0),(0,0),(0,0)],\n",
    "        [(0,0),(0,0),(0,0),(1,0),(0,0),(0,0),(0,0),(0,0)],\n",
    "        [(0,0),(0,0),(0,0),(0,0),(0,0),(1,0),(0,0),(0,0)],\n",
    "        [(0,0),(0,0),(0,0),(0,0),(1,0),(0,0),(0,0),(0,0)],\n",
    "        [(0,0),(0,0),(0,0),(0,0),(0,0),(0,0),(0,0),(1,0)],\n",
    "        [(0,0),(0,0),(0,0),(0,0),(0,0),(0,0),(1,0),(0,0)],\n",
    "    ])\n",
    "CNOT=mc([\n",
    "        [(1,0),(0,0),(0,0),(0,0)],\n",
    "        [(0,0),(1,0),(0,0),(0,0)],\n",
    "        [(0,0),(0,0),(0,0),(1,0)],\n",
    "        [(0,0),(0,0),(1,0),(0,0)]\n",
    "    ])\n",
    "ID=identidad(2)\n",
    "Bloque5=ten(CNOTE,ID)\n",
    "Bloque4=ten(ten(ten(ID,ID),X),ID)\n",
    "Bloque3=ten(ten(ID,ID),CNOT)\n",
    "Bloque2=ten(ten(ten(ID,ID),X),ID)\n",
    "Bloque1=ten(CNOTE,ID)\n",
    "ans=mult(mult(mult(mult(Bloque5,Bloque4),Bloque3),Bloque2),Bloque1)\n",
    "print(ans)"
   ]
  },
  {
   "cell_type": "markdown",
   "metadata": {},
   "source": [
    "<img src=\"Imagenes/Explicacion.PNG\">\n",
    "\n",
    "# Hemos acertado , es nuestro circuito !\n",
    "\n",
    "## Ahora graficamente con compuertas tradicionales: "
   ]
  },
  {
   "cell_type": "code",
   "execution_count": 34,
   "metadata": {},
   "outputs": [
    {
     "data": {
      "image/png": "[encoded data removed]",
      "text/plain": [
       "<Figure size 479.192x264.88 with 1 Axes>"
      ]
     },
     "execution_count": 34,
     "metadata": {},
     "output_type": "execute_result"
    }
   ],
   "source": [
    "%matplotlib inline\n",
    "from qiskit import QuantumCircuit, execute, Aer, IBMQ\n",
    "from qiskit.compiler import transpile, assemble\n",
    "from qiskit.tools.jupyter import *\n",
    "from qiskit.visualization import *\n",
    "IBMQ.load_account()\n",
    "F3qb=QuantumCircuit(4)\n",
    "F3qb.cx(0,2)\n",
    "F3qb.x(2)\n",
    "F3qb.cx(2,3)\n",
    "F3qb.x(2)\n",
    "F3qb.cx(0,2)\n",
    "F3qb.draw(output='mpl')"
   ]
  },
  {
   "cell_type": "markdown",
   "metadata": {},
   "source": [
    "## 3.6    Entonces procedemos a meter el circuito en una caja negra y a montar el circuito de Deutsch-Jozsa "
   ]
  },
  {
   "cell_type": "code",
   "execution_count": 38,
   "metadata": {},
   "outputs": [
    {
     "data": {
      "image/png": "[encoded data removed]",
      "text/plain": [
       "<Figure size 840.392x325.08 with 1 Axes>"
      ]
     },
     "execution_count": 38,
     "metadata": {},
     "output_type": "execute_result"
    }
   ],
   "source": [
    "compuerta_uf=F3qb.to_gate()\n",
    "compuerta_uf.name=\"   U_f   \"\n",
    "circuito3qb=QuantumCircuit(4,3)\n",
    "circuito3qb.x(3)\n",
    "circuito3qb.barrier()\n",
    "circuito3qb.h([0,1,2,3])\n",
    "circuito3qb.append(compuerta_uf,[0,1,2,3])\n",
    "circuito3qb.h([0,1,2])\n",
    "circuito3qb.measure([0,1,2],[0,1,2])\n",
    "circuito3qb.draw(output='mpl')"
   ]
  },
  {
   "cell_type": "code",
   "execution_count": 36,
   "metadata": {},
   "outputs": [
    {
     "name": "stdout",
     "output_type": "stream",
     "text": [
      "{'010': 32, '111': 135, '000': 79, '011': 36, '100': 178, '101': 456, '001': 72, '110': 36}\n"
     ]
    }
   ],
   "source": [
    "proveedor=IBMQ.get_provider('ibm-q')\n",
    "comp_cuantico=proveedor.get_backend('ibmq_ourense')\n",
    "ejecucion=execute(circuito3qb,backend=comp_cuantico,shots=1024)\n",
    "resultado=ejecucion.result()\n",
    "counts=resultado.get_counts()\n",
    "print(counts)"
   ]
  },
  {
   "cell_type": "markdown",
   "metadata": {},
   "source": [
    "## 3.7  Resultados del Algoritmo de Deutsch-Jozsa"
   ]
  },
  {
   "cell_type": "code",
   "execution_count": 37,
   "metadata": {},
   "outputs": [
    {
     "data": {
      "image/png": "[encoded data removed]",
      "text/plain": [
       "<Figure size 504x360 with 1 Axes>"
      ]
     },
     "execution_count": 37,
     "metadata": {},
     "output_type": "execute_result"
    }
   ],
   "source": [
    "plot_histogram(counts)"
   ]
  },
  {
   "cell_type": "markdown",
   "metadata": {},
   "source": [
    "# 3.8 Conclusiones : \n",
    "## Concluimos que la funcion es balanceada como deberia ser ya que es POCO probable que colapse al estado ${\\displaystyle | 000\\rangle }$, curiosamente si con mayoria en  ${\\displaystyle | 101\\rangle }$"
   ]
  }
 ],
 "metadata": {
  "kernelspec": {
   "display_name": "Python 3",
   "language": "python",
   "name": "python3"
  },
  "language_info": {
   "codemirror_mode": {
    "name": "ipython",
    "version": 3
   },
   "file_extension": ".py",
   "mimetype": "text/x-python",
   "name": "python",
   "nbconvert_exporter": "python",
   "pygments_lexer": "ipython3",
   "version": "3.7.4"
  }
 },
 "nbformat": 4,
 "nbformat_minor": 2
}
