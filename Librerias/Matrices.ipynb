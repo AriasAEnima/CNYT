{
 "cells": [
  {
   "cell_type": "code",
   "execution_count": 1,
   "metadata": {},
   "outputs": [],
   "source": [
    "from Numeros_Complejos.libreriacomplejos import complejo as C\n",
    "from Numeros_Complejos.libreriacomplejos import suma \n",
    "from Numeros_Complejos.libreriacomplejos import producto\n",
    "from Numeros_Complejos.libreriacomplejos import resta\n",
    "from Numeros_Complejos.libreriacomplejos import equals as eqc\n",
    "class matrizcompleja:\n",
    "    def __init__(self,mat=None):\n",
    "        #self._mat=mat\n",
    "        newmat=[]\n",
    "        if not isinstance(mat[0][0], C):\n",
    "            for i in mat:\n",
    "                row=[]\n",
    "                for j in i:               \n",
    "                    row.append(C(j[0],j[1]))               \n",
    "                newmat.append(row)\n",
    "            self._mat=newmat\n",
    "        else:\n",
    "            self._mat=mat\n",
    "        self._filas=len(self._mat)\n",
    "        self._columnas=len(self._mat[0])\n",
    "\n",
    "    def invmat(self):\n",
    "        I=[]\n",
    "        for i in range(self.filas):\n",
    "            row=[]\n",
    "            for j in range(self.columnas):\n",
    "                row.append(producto(self.idx(i,j),C(-1,0)))\n",
    "            I.append(row)\n",
    "        return matrizcompleja(I)\n",
    "   \n",
    "    def trasmat(self):\n",
    "        T=[]\n",
    "        for i in range(self.columnas):\n",
    "            row=[] \n",
    "            for j in range(self.filas):\n",
    "                 row.append(self.idx(j,i))\n",
    "            T.append(row)\n",
    "        return matrizcompleja(T) \n",
    "\n",
    "    def conjmat(self):\n",
    "        CO=[]\n",
    "        for i in range(self.filas):\n",
    "            row=[] \n",
    "            for j in range(self.columnas):\n",
    "                 row.append(self.idx(i,j).conjugado())\n",
    "            CO.append(row)\n",
    "        return matrizcompleja(CO)\n",
    "\n",
    "    def adjmat(self):\n",
    "        ans=self.conjmat()  \n",
    "        return ans.trasmat() \n",
    "    \n",
    "    def norma(self):\n",
    "        if self.columnas>1:\n",
    "            raise Exception(\"ERROR: Debe ser un vector\")\n",
    "        return prodintmat(self,self).idx(0,0).a\n",
    "    \n",
    "    def unitaria(self):\n",
    "        if(not self.cuadrada()):\n",
    "            return False\n",
    "        else:\n",
    "            I=identidad(self.filas)\n",
    "            ans=multmat(self.adjmat(),self)\n",
    "            return equals(I,ans)\n",
    "        \n",
    "    def hermitiana(self):\n",
    "        return equals(self,self.adjmat())        \n",
    "    \n",
    "    def cuadrada(self):\n",
    "        return self.filas==self.columnas\n",
    "    def potencia(self,n):\n",
    "        if n==1:\n",
    "            return self\n",
    "        elif (n==0):\n",
    "            return identidad(self.filas)\n",
    "        else:\n",
    "            if (n%2==0):\n",
    "                return multmat(self.potencia(n//2),self.potencia(n//2))\n",
    "            else:\n",
    "                return multmat(multmat(self.potencia(n//2),self.potencia(n//2)),self)\n",
    "    \n",
    "    @property\n",
    "    def mat(self):\n",
    "        return self._mat\n",
    "    \n",
    "    @property\n",
    "    def filas(self):\n",
    "        return self._filas\n",
    "                       \n",
    "    @property\n",
    "    def columnas(self):\n",
    "        return self._columnas\n",
    "    \n",
    "    def __str__(self):\n",
    "        string=\"\"\n",
    "        for i in self.mat:\n",
    "            string+=str(i)+\"\\n\"\n",
    "        return string\n",
    "    \n",
    "    def idx(self,i,j):\n",
    "        return self.mat[i][j]        \n",
    "           \n",
    "def summat(A,B):\n",
    "    ans=[]\n",
    "    if (A.filas!=B.filas or A.columnas!=B.columnas):\n",
    "        raise Exception(\"ERROR: No comparten las dimensiones\")\n",
    "    for i in range(A.filas):\n",
    "        row=[]\n",
    "        for j in range(A.columnas):\n",
    "            row.append(suma(A.idx(i,j),B.idx(i,j)))\n",
    "        ans.append(row)\n",
    "    return matrizcompleja(ans)\n",
    "\n",
    "def multmat(A,B):\n",
    "    ans=[]\n",
    "    if (B.filas!=A.columnas):\n",
    "        print(B.filas!=A.columnas,\" B y A : \", B.filas, A.columnas)\n",
    "        raise Exception(\"ERROR: No comparten las dimensiones para lograr producto\")\n",
    "    for i in range(A.filas):\n",
    "        row=[]        \n",
    "        for j in range(B.columnas):\n",
    "            sumando=C(0,0)\n",
    "            for k in range(B.filas):\n",
    "                #print(\"Indices A :{},{} Indices B {} ,{}\".format(i,k,k,j))\n",
    "                sumando=suma(sumando,producto(A.idx(i,k),B.idx(k,j)))                \n",
    "            row.append(sumando)\n",
    "        ans.append(row)\n",
    "    return matrizcompleja(ans)\n",
    "\n",
    "def accion(A,V):\n",
    "    return multmat(A,V)\n",
    "\n",
    "def multescmat(c,A):\n",
    "    M=[]\n",
    "    for i in range(A.filas):\n",
    "        row=[] \n",
    "        for j in range(A.columnas):\n",
    "            row.append(producto(A.idx(i,j),c))\n",
    "        M.append(row)\n",
    "    return matrizcompleja(M)\n",
    "\n",
    "def prodintmat(V1,V2):\n",
    "    return multmat(V1.adjmat(),V2)\n",
    "\n",
    "def distanciavec(V1,V2):\n",
    "    ans=[]\n",
    "    if V1.columnas>1 or V2.columnas>1:\n",
    "        raise Exception(\"ERROR: Algunos de los argumentos no es un vector\")\n",
    "    if V1.filas!=V2.filas:\n",
    "        raise Exception(\"ERROR: No tienen la misma dimension\")\n",
    "    for i in range(V1.columnas):\n",
    "        row=producto(V1.idx(i,0),V2.idx(i,0))\n",
    "        ans.append(row)\n",
    "    return matrizcompleja(ans)\n",
    "\n",
    "def identidad(n):\n",
    "    ans=[]\n",
    "    for i in range(n):\n",
    "        row=[]\n",
    "        for j in range(n):\n",
    "            if i==j:\n",
    "                row.append(C(1,0))\n",
    "            else:\n",
    "                row.append(C(0,0))\n",
    "        ans.append(row)\n",
    "    return matrizcompleja(ans)\n",
    "\n",
    "def equals(V1,V2):\n",
    "    if (V1.filas!=V2.filas or V1.columnas!=V2.columnas):\n",
    "        return False\n",
    "    for i in range(V1.filas):\n",
    "        for j in range(V1.columnas):\n",
    "            if (not eqc(V1.idx(i,j),V2.idx(i,j))):\n",
    "                return False\n",
    "    return True\n",
    "def prodtensorial(A,B):\n",
    "    ans=[]\n",
    "    for i in range(A.filas*B.filas):\n",
    "        row=[]\n",
    "        for j in range(A.columnas*B.columnas):\n",
    "            inA=A.idx(i//B.filas,j//B.columnas)\n",
    "            inB=B.idx(i%B.filas,j%B.columnas)\n",
    "            row.append(producto(inA,inB))\n",
    "        ans.append(row)\n",
    "    return matrizcompleja(ans)"
   ]
  },
  {
   "cell_type": "code",
   "execution_count": 2,
   "metadata": {},
   "outputs": [
    {
     "name": "stdout",
     "output_type": "stream",
     "text": [
      "[{0.0000.000i}, {0.000+1.000i}]\n",
      "[{1.0000.000i}, {1.000+1.000i}]\n",
      "\n"
     ]
    }
   ],
   "source": [
    "a=matrizcompleja([[(0,0),(0,1)],[(1,0),(1,1)]])\n",
    "print(a)\n",
    "\n"
   ]
  },
  {
   "cell_type": "markdown",
   "metadata": {},
   "source": [
    "### Suma"
   ]
  },
  {
   "cell_type": "code",
   "execution_count": 3,
   "metadata": {
    "scrolled": true
   },
   "outputs": [
    {
     "name": "stdout",
     "output_type": "stream",
     "text": [
      "[{2.000+2.000i}, {3.000-3.000i}]\n",
      "[{1.000-1.000i}, {6.000+8.000i}]\n",
      "\n",
      " + \n",
      "[{2.000+5.000i}, {3.000-7.000i}]\n",
      "[{2.000-1.000i}, {6.000+8.000i}]\n",
      "\n",
      " =\n",
      "[{4.000+7.000i}, {6.000-10.000i}]\n",
      "[{3.000-2.000i}, {12.000+16.000i}]\n",
      "\n"
     ]
    }
   ],
   "source": [
    "a=matrizcompleja([[(2,2),(3,-3)],[(1,-1),(6,8)]])\n",
    "b=matrizcompleja([[(2,5),(3,-7)],[(2,-1),(6,8)]])\n",
    "print(str(a)+\"\\n + \\n\"+str(b)+\"\\n =\")\n",
    "print(summat(a,b))"
   ]
  },
  {
   "cell_type": "markdown",
   "metadata": {},
   "source": [
    "### Multiplicacion"
   ]
  },
  {
   "cell_type": "code",
   "execution_count": 4,
   "metadata": {
    "scrolled": true
   },
   "outputs": [
    {
     "name": "stdout",
     "output_type": "stream",
     "text": [
      "[{2.000+2.000i}, {3.000-3.000i}]\n",
      "[{1.000-1.000i}, {6.000+8.000i}]\n",
      "\n",
      " * \n",
      "[{2.000+5.000i}, {3.000-7.000i}]\n",
      "[{2.000-1.000i}, {6.000+8.000i}]\n",
      "\n",
      " =\n",
      "[{-3.000+5.000i}, {62.000-2.000i}]\n",
      "[{27.000+13.000i}, {-32.000+86.000i}]\n",
      "\n"
     ]
    }
   ],
   "source": [
    "a=matrizcompleja([[(2,2),(3,-3)],[(1,-1),(6,8)]])\n",
    "b=matrizcompleja([[(2,5),(3,-7)],[(2,-1),(6,8)]])\n",
    "print(str(a)+\"\\n * \\n\"+str(b)+\"\\n =\")\n",
    "print(multmat(a,b))"
   ]
  },
  {
   "cell_type": "markdown",
   "metadata": {},
   "source": [
    "### Inversa"
   ]
  },
  {
   "cell_type": "code",
   "execution_count": 5,
   "metadata": {
    "scrolled": true
   },
   "outputs": [
    {
     "name": "stdout",
     "output_type": "stream",
     "text": [
      "-[{2.000+5.000i}, {3.000-7.000i}]\n",
      "[{2.000-1.000i}, {6.000+8.000i}]\n",
      " = \n",
      "\n",
      "[{-2.000-5.000i}, {-3.000+7.000i}]\n",
      "[{-2.000+1.000i}, {-6.000-8.000i}]\n",
      "\n"
     ]
    }
   ],
   "source": [
    "b=matrizcompleja([[C(2,5),C(3,-7)],[C(2,-1),C(6,8)]])\n",
    "print(\"-\"+str(b)+\" = \\n\\n\"+str(b.invmat()))"
   ]
  },
  {
   "cell_type": "markdown",
   "metadata": {},
   "source": [
    "### Producto por escalar"
   ]
  },
  {
   "cell_type": "code",
   "execution_count": 6,
   "metadata": {},
   "outputs": [
    {
     "name": "stdout",
     "output_type": "stream",
     "text": [
      "(-8, 0)*[{2.000+2.000i}, {3.000-3.000i}]\n",
      "[{1.000-1.000i}, {6.000+8.000i}]\n",
      " = \n",
      "\n",
      "[{-16.000-16.000i}, {-24.000+24.000i}]\n",
      "[{-8.000+8.000i}, {-48.000-64.000i}]\n",
      "\n"
     ]
    }
   ],
   "source": [
    "a=matrizcompleja([[C(2,2),C(3,-3)],[C(1,-1),C(6,8)]])\n",
    "k=C(-8,0)\n",
    "print(str(k)+\"*\"+str(a)+\" = \\n\\n\"+str(multescmat(k,a)))"
   ]
  },
  {
   "cell_type": "markdown",
   "metadata": {},
   "source": [
    "### Traspuesta"
   ]
  },
  {
   "cell_type": "code",
   "execution_count": 7,
   "metadata": {},
   "outputs": [
    {
     "name": "stdout",
     "output_type": "stream",
     "text": [
      "[{2.000+2.000i}, {3.000-3.000i}, {0.000+1.000i}]\n",
      "[{1.000-1.000i}, {6.000+8.000i}, {1.0000.000i}]\n",
      "[{1.000+1.000i}, {1.000+1.000i}, {1.000+1.000i}]\n",
      "^t\n",
      " =  \n",
      "[{2.000+2.000i}, {1.000-1.000i}, {1.000+1.000i}]\n",
      "[{3.000-3.000i}, {6.000+8.000i}, {1.000+1.000i}]\n",
      "[{0.000+1.000i}, {1.0000.000i}, {1.000+1.000i}]\n",
      "\n"
     ]
    }
   ],
   "source": [
    "a=matrizcompleja([[(2,2),(3,-3),(0,1)],[(1,-1),(6,8),(1,0)],[(1,1),(1,1),(1,1)]])\n",
    "print(str(a)+\"^t\\n =  \\n\"+str(a.trasmat()))"
   ]
  },
  {
   "cell_type": "markdown",
   "metadata": {},
   "source": [
    "### Conjugada"
   ]
  },
  {
   "cell_type": "code",
   "execution_count": 8,
   "metadata": {},
   "outputs": [
    {
     "name": "stdout",
     "output_type": "stream",
     "text": [
      "Conj(\n",
      "[{2.000+2.000i}, {3.000-3.000i}]\n",
      "[{1.000-1.000i}, {6.000+8.000i}]\n",
      " )= \n",
      "\n",
      "[{2.000-2.000i}, {3.000+3.000i}]\n",
      "[{1.000+1.000i}, {6.000-8.000i}]\n",
      "\n"
     ]
    }
   ],
   "source": [
    "a=matrizcompleja([[C(2,2),C(3,-3)],[C(1,-1),C(6,8)]])\n",
    "print(\"Conj(\\n\"+str(a)+\" )= \\n\\n\"+str(a.conjmat()))"
   ]
  },
  {
   "cell_type": "markdown",
   "metadata": {},
   "source": [
    "### Adjunta"
   ]
  },
  {
   "cell_type": "code",
   "execution_count": 9,
   "metadata": {
    "scrolled": true
   },
   "outputs": [
    {
     "name": "stdout",
     "output_type": "stream",
     "text": [
      "ADJ( \n",
      "[{2.000+2.000i}, {3.000-3.000i}]\n",
      "[{1.000-1.000i}, {6.000+8.000i}]\n",
      " \n",
      " )  = \n",
      "[{2.000-2.000i}, {1.000+1.000i}]\n",
      "[{3.000+3.000i}, {6.000-8.000i}]\n",
      "\n"
     ]
    }
   ],
   "source": [
    "a=matrizcompleja([[C(2,2),C(3,-3)],[C(1,-1),C(6,8)]])\n",
    "print(\"ADJ( \\n\"+str(a)+\" \\n )  = \\n\"+str(a.adjmat()))"
   ]
  },
  {
   "cell_type": "markdown",
   "metadata": {},
   "source": [
    "### Producto  Interno"
   ]
  },
  {
   "cell_type": "code",
   "execution_count": 10,
   "metadata": {
    "scrolled": true
   },
   "outputs": [
    {
     "name": "stdout",
     "output_type": "stream",
     "text": [
      "[{23.000+12.000i}]\n",
      "\n"
     ]
    }
   ],
   "source": [
    "a=matrizcompleja([[C(3,-1)],[C(3,2)]])\n",
    "b=matrizcompleja([[C(7,-1)],[C(-1,2)]])\n",
    "print(prodintmat(a,b))"
   ]
  },
  {
   "cell_type": "markdown",
   "metadata": {},
   "source": [
    "### Norma vector"
   ]
  },
  {
   "cell_type": "code",
   "execution_count": 11,
   "metadata": {},
   "outputs": [
    {
     "name": "stdout",
     "output_type": "stream",
     "text": [
      "23\n"
     ]
    }
   ],
   "source": [
    "a=matrizcompleja([[C(3,-1)],[C(3,2)]])\n",
    "print(a.norma())"
   ]
  },
  {
   "cell_type": "code",
   "execution_count": 12,
   "metadata": {},
   "outputs": [
    {
     "data": {
      "text/plain": [
       "True"
      ]
     },
     "execution_count": 12,
     "metadata": {},
     "output_type": "execute_result"
    }
   ],
   "source": [
    "a=matrizcompleja([[(3,-1)],[(3,2)]])\n",
    "b=matrizcompleja([[(3,-1)],[(3,2)]])\n",
    "equals(a,b)"
   ]
  },
  {
   "cell_type": "code",
   "execution_count": 13,
   "metadata": {},
   "outputs": [
    {
     "data": {
      "text/plain": [
       "False"
      ]
     },
     "execution_count": 13,
     "metadata": {},
     "output_type": "execute_result"
    }
   ],
   "source": [
    "a=matrizcompleja([[(3,-1)],[(3,2)]])\n",
    "a.unitaria()"
   ]
  },
  {
   "cell_type": "code",
   "execution_count": 14,
   "metadata": {},
   "outputs": [
    {
     "data": {
      "text/plain": [
       "True"
      ]
     },
     "execution_count": 14,
     "metadata": {},
     "output_type": "execute_result"
    }
   ],
   "source": [
    "a=matrizcompleja([[(0,0),(1,0)],[(-1,0),(0,0)]])\n",
    "a.unitaria()"
   ]
  },
  {
   "cell_type": "code",
   "execution_count": 15,
   "metadata": {},
   "outputs": [
    {
     "data": {
      "text/plain": [
       "False"
      ]
     },
     "execution_count": 15,
     "metadata": {},
     "output_type": "execute_result"
    }
   ],
   "source": [
    "a=matrizcompleja([[(0,-1),(1,0)],[(-1,0),(0,0)]])\n",
    "a.unitaria()"
   ]
  },
  {
   "cell_type": "code",
   "execution_count": 16,
   "metadata": {},
   "outputs": [
    {
     "data": {
      "text/plain": [
       "True"
      ]
     },
     "execution_count": 16,
     "metadata": {},
     "output_type": "execute_result"
    }
   ],
   "source": [
    "a=matrizcompleja([[(3,0),(2,1)],[(2,-1),(1,0)]])\n",
    "a.hermitiana()"
   ]
  },
  {
   "cell_type": "code",
   "execution_count": 17,
   "metadata": {},
   "outputs": [
    {
     "name": "stdout",
     "output_type": "stream",
     "text": [
      "[{1.0000.000i}, {1.0000.000i}]\n",
      "[{1.0000.000i}, {0.0000.000i}]\n",
      "\n",
      "[{21.0000.000i}, {13.0000.000i}]\n",
      "[{13.0000.000i}, {8.0000.000i}]\n",
      "\n"
     ]
    }
   ],
   "source": [
    "a=matrizcompleja([[(1,0),(1,0)],[(1,0),(0,0)]])\n",
    "print(a)\n",
    "print(a.potencia(7))"
   ]
  },
  {
   "cell_type": "code",
   "execution_count": null,
   "metadata": {},
   "outputs": [],
   "source": []
  }
 ],
 "metadata": {
  "kernelspec": {
   "display_name": "Python 3",
   "language": "python",
   "name": "python3"
  },
  "language_info": {
   "codemirror_mode": {
    "name": "ipython",
    "version": 3
   },
   "file_extension": ".py",
   "mimetype": "text/x-python",
   "name": "python",
   "nbconvert_exporter": "python",
   "pygments_lexer": "ipython3",
   "version": "3.7.4"
  }
 },
 "nbformat": 4,
 "nbformat_minor": 2
}
