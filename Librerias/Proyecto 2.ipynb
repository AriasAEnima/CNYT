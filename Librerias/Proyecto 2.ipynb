{
 "cells": [
  {
   "cell_type": "markdown",
   "metadata": {},
   "source": [
    "# Proyecto 2 Sistemas Dinamicos\n",
    "\n",
    "# 1) Experimento de la doble rendija (probabilístico)."
   ]
  },
  {
   "cell_type": "markdown",
   "metadata": {},
   "source": [
    "$$ B=\\begin{bmatrix} \n",
    "0 & 0 & 0 & 0 & 0 & 0 & 0 & 0\\\\\n",
    "1/2 & 0 & 0 & 0 & 0 & 0 & 0 & 0\\\\\n",
    "1/2 & 0 & 0 & 0 & 0 & 0 & 0 & 0\\\\\n",
    "0 & 1/3 & 0 & 1 & 0 & 0 & 0 & 0\\\\\n",
    "0 & 1/3 & 0 & 0 & 1 & 0 & 0 & 0\\\\\n",
    "0 & 1/3 & 1/3 & 0 & 0 & 1 & 0 & 0\\\\\n",
    "0 & 0 & 1/3 & 0 & 0 & 0 & 1 & 0\\\\\n",
    "0 & 0 & 1/3 & 0 & 0 & 0 & 0 & 1\\\\ \\end{bmatrix} $$ "
   ]
  },
  {
   "cell_type": "code",
   "execution_count": 1,
   "metadata": {},
   "outputs": [
    {
     "name": "stdout",
     "output_type": "stream",
     "text": [
      "Vector Estado final:\n"
     ]
    },
    {
     "data": {
      "text/plain": [
       "<Figure size 640x480 with 1 Axes>"
      ]
     },
     "metadata": {},
     "output_type": "display_data"
    },
    {
     "name": "stdout",
     "output_type": "stream",
     "text": [
      "[0.0, 0.0, 0.0, 0.16666666666666666, 0.16666666666666666, 0.3333333333333333, 0.16666666666666666, 0.16666666666666666]\n",
      "1/6= 0.16666666666666666\n"
     ]
    }
   ],
   "source": [
    "from Simulador.simulador import resultado\n",
    "from Matriz_Compleja.libreriamatrices import matrizcompleja as mc\n",
    "\n",
    "B=mc([\n",
    "    [(0,0),(0,0),(0,0),(0,0),(0,0),(0,0),(0,0),(0,0)],\n",
    "    [(1/2,0),(0,0),(0,0),(0,0),(0,0),(0,0),(0,0),(0,0)],\n",
    "    [(1/2,0),(0,0),(0,0),(0,0),(0,0),(0,0),(0,0),(0,0)],\n",
    "    [(0,0),(1/3,0),(0,0),(1,0),(0,0),(0,0),(0,0),(0,0)],\n",
    "    [(0,0),(1/3,0),(0 ,0),(0 ,0),(1,0),(0,0),(0,0),(0,0)],\n",
    "    [(0,0),(1/3,0),(1/3,0),(0,0),(0,0),(1,0),(0,0),(0,0)],\n",
    "    [(0,0),(0,0),(1/3,0),(0,0),(0,0),(0,0),(1,0),(0,0)],\n",
    "    [(0,0),(0,0),(1/3,0),(0,0),(0,0),(0,0),(0,0),(1,0)]\n",
    "])\n",
    "I=mc([  [(1,0)],   [(0,0)],    [(0,0)],    [(0,0)],    [(0,0)],    [(0,0)],    [(0,0)],    [(0,0)]     ])\n",
    "print(resultado(B,I,2))\n",
    "print(\"1/6=\",str(1/6))"
   ]
  },
  {
   "cell_type": "markdown",
   "metadata": {},
   "source": [
    "# 2) Experimento de la doble rendija (cuantico).\n",
    "$$ P=\\begin{bmatrix} \n",
    "0 & 0 & 0 & 0 & 0 & 0 & 0 & 0\\\\\n",
    "\\frac{1}{\\sqrt2} & 0 & 0 & 0 & 0 & 0 & 0 & 0\\\\\n",
    "\\frac{1}{\\sqrt2} & 0 & 0 & 0 & 0 & 0 & 0 & 0\\\\\n",
    "0 & \\frac{-1+i}{\\sqrt6} & 0  & 1 & 0 & 0 & 0 & 0\\\\\n",
    "0 & \\frac{-1-i}{\\sqrt6} & 0 & 0 & 1 & 0 & 0 & 0\\\\\n",
    "0 & \\frac{1-i}{\\sqrt6} & \\frac{-1+i}{\\sqrt6} & 0 & 0 & 1 & 0 & 0\\\\\n",
    "0 & 0 & \\frac{-1-i}{\\sqrt6} & 0 & 0 & 0 & 1 & 0\\\\\n",
    "0 & 0 & \\frac{1-i}{\\sqrt6} & 0 & 0 & 0 & 0 & 1\\\\ \\end{bmatrix} $$ "
   ]
  },
  {
   "cell_type": "code",
   "execution_count": 2,
   "metadata": {},
   "outputs": [
    {
     "name": "stdout",
     "output_type": "stream",
     "text": [
      "Vector Estado final:\n"
     ]
    },
    {
     "data": {
      "image/png": "[encoded data removed]",
      "text/plain": [
       "<Figure size 432x288 with 1 Axes>"
      ]
     },
     "metadata": {
      "needs_background": "light"
     },
     "output_type": "display_data"
    },
    {
     "name": "stdout",
     "output_type": "stream",
     "text": [
      "[0.0, 0.0, 0.0, 0.1666666666666667, 0.1666666666666667, 0.0, 0.1666666666666667, 0.1666666666666667]\n"
     ]
    }
   ],
   "source": [
    "from Simulador.simuladorcuantico import resultado as resultadoc\n",
    "from math import sqrt\n",
    "P=mc([\n",
    "    [(0,0),(0,0),(0,0),(0,0),(0,0),(0,0),(0,0),(0,0)],\n",
    "    [(1/sqrt(2),0),(0,0),(0,0),(0,0),(0,0),(0,0),(0,0),(0,0)],\n",
    "    [(1/sqrt(2),0),(0,0),(0,0),(0,0),(0,0),(0,0),(0,0),(0,0)],\n",
    "    [(0,0),(-1/sqrt(6),1/sqrt(6)),(0,0),(1,0),(0,0),(0,0),(0,0),(0,0)],\n",
    "    [(0,0),(-1/sqrt(6),-1/sqrt(6)),(0 ,0),(0 ,0),(1,0),(0,0),(0,0),(0,0)],\n",
    "    [(0,0),(1/sqrt(6),-1/sqrt(6)),(-1/sqrt(6),1/sqrt(6)),(0,0),(0,0),(1,0),(0,0),(0,0)],\n",
    "    [(0,0),(0,0),(-1/sqrt(6),-1/sqrt(6),0),(0,0),(0,0),(0,0),(1,0),(0,0)],\n",
    "    [(0,0),(0,0),(1/sqrt(6),-1/sqrt(6)),(0,0),(0,0),(0,0),(0,0),(1,0)]\n",
    "])\n",
    "IC=mc([  [(1,0)],   [(0,0)],    [(0,0)],    [(0,0)],    [(0,0)],    [(0,0)],    [(0,0)],    [(0,0)]     ])\n",
    "print(resultadoc(P,IC,2))"
   ]
  },
  {
   "cell_type": "markdown",
   "metadata": {},
   "source": [
    "# 3) Doble rendija fisico\n",
    "\n",
    "Se fabrico un soporte en el cual colocamos la rendija de aluminio:\n",
    "<img src=\"files/Imagenes/soporte.jpeg\" width=\"50%\">\n",
    "\n",
    "Como se muestra los cortes estan muy cerca y que el haz de luz este en contacto con ambos\n",
    "\n",
    "<img src=\"files/Imagenes/cerca.jpeg\" width=\"50%\">\n",
    "\n",
    "A una distancia adecuada podremos ver este patron : \n",
    "\n",
    "<img src=\"files/Imagenes/luzc.jpeg\" width=\"70%\">\n"
   ]
  },
  {
   "cell_type": "markdown",
   "metadata": {},
   "source": [
    "## Comparacion\n",
    "\n",
    "### Probabilistico\n",
    "Comparandolo con el probalistico podriamos si notar que hay una concentracion de \"mas\" luz en el centro sin embargo tambien se nota que hay espacios donde no hay luz y con 5 o infinitos blancos el sistema probabilistico no nos da esa posibilidad de mostrar \"esos huecos\". \n",
    "\n",
    "### Cuantico\n",
    "En este se nota la interferencia pero no se muestra el \"degrade\" de luz que hay hacia los extremos, tal vez con mas blancos y que en el centro precisamente no ocurre un hueco podria ser mas cercano a lo que observamos en el experimento.\n",
    "\n",
    "Algo similar a esto: \n",
    "\n",
    "<img src=\"files/Imagenes/ejemplo.png\" width=\"70%\">\n"
   ]
  },
  {
   "cell_type": "markdown",
   "metadata": {},
   "source": [
    "# 4) Simulacion Circuitos Cuanticos\n",
    "\n",
    "## Con un qubit"
   ]
  },
  {
   "cell_type": "code",
   "execution_count": 3,
   "metadata": {},
   "outputs": [
    {
     "name": "stdout",
     "output_type": "stream",
     "text": [
      "Vector Estado final:\n"
     ]
    },
    {
     "data": {
      "image/png": "[encoded data removed]",
      "text/plain": [
       "<Figure size 432x288 with 1 Axes>"
      ]
     },
     "metadata": {
      "needs_background": "light"
     },
     "output_type": "display_data"
    },
    {
     "data": {
      "text/plain": [
       "[0.4999999999999999, 0.4999999999999999]"
      ]
     },
     "execution_count": 3,
     "metadata": {},
     "output_type": "execute_result"
    }
   ],
   "source": [
    "from Numeros_Complejos.libreriacomplejos import complejo as c\n",
    "from Matriz_Compleja.libreriamatrices import multmat as mult\n",
    "\n",
    "def X():       \n",
    "    return mc([[(0,0),(1,0)],[(1,0),(0,0)]])\n",
    "\n",
    "def H():\n",
    "    return mc([[(1/sqrt(2),0),(1/sqrt(2),0)],[(1/sqrt(2),0),(-1/sqrt(2),0)]])\n",
    "\n",
    "\n",
    "q=mc([[(1,0)],[(0,0)]])\n",
    "\n",
    "algoritmo=[X(),H(),X()]\n",
    "ans=q\n",
    "for i in algoritmo:\n",
    "    ans=mult(i,ans)\n",
    "resultadoc(V=ans,clicks=\"n\")\n"
   ]
  },
  {
   "cell_type": "markdown",
   "metadata": {},
   "source": [
    "<img src=\"files/Imagenes/1qbit.PNG\">\n",
    "\n",
    "## Por lo visto hay una diferencia de 1% (por los shoots)"
   ]
  },
  {
   "cell_type": "markdown",
   "metadata": {},
   "source": [
    "## Con dos qubit"
   ]
  },
  {
   "cell_type": "code",
   "execution_count": 22,
   "metadata": {},
   "outputs": [
    {
     "name": "stdout",
     "output_type": "stream",
     "text": [
      "Vector Estado final:\n"
     ]
    },
    {
     "data": {
      "image/png": "[encoded data removed]",
      "text/plain": [
       "<Figure size 432x288 with 1 Axes>"
      ]
     },
     "metadata": {
      "needs_background": "light"
     },
     "output_type": "display_data"
    },
    {
     "data": {
      "text/plain": [
       "[0.0, 0.4999999999999999, 0.4999999999999999, 0.0]"
      ]
     },
     "execution_count": 22,
     "metadata": {},
     "output_type": "execute_result"
    }
   ],
   "source": [
    "from Matriz_Compleja.libreriamatrices import prodtensorial as ten\n",
    "from Matriz_Compleja.libreriamatrices import identidad\n",
    "ID=identidad(2)\n",
    "q1=mc([[(1,0)],[(0,0)]])\n",
    "q2=mc([[(1,0)],[(0,0)]])\n",
    "\n",
    "def CNOT():\n",
    "    return mc([\n",
    "        [(1,0),(0,0),(0,0),(0,0)],\n",
    "        [(0,0),(1,0),(0,0),(0,0)],\n",
    "        [(0,0),(0,0),(0,0),(1,0)],\n",
    "        [(0,0),(0,0),(1,0),(0,0)]\n",
    "    ])\n",
    "\n",
    "algoritmo1=[ID,H(),CNOT()]\n",
    "algoritmo2=[X(),ID,None]\n",
    "\n",
    "\n",
    "ansf=ten(q1,q2)\n",
    "for i in range(len(algoritmo1)):\n",
    "    if isinstance(algoritmo1[i], mc) and isinstance(algoritmo2[i], mc) :\n",
    "        ansf=mult(ten(algoritmo1[i],algoritmo2[i]),ansf)   \n",
    "    elif isinstance(algoritmo1[i], mc):    \n",
    "        ansf=mult(algoritmo1[i],ansf)          \n",
    "resultadoc(V=ansf,clicks=\"n\", labels=[\"00\",\"01\",\"10\",\"11\"])\n"
   ]
  },
  {
   "cell_type": "markdown",
   "metadata": {},
   "source": [
    "<img src=\"files/Imagenes/2qbit.PNG\">\n",
    "\n",
    "## Por lo visto hay una diferencia de 1% (por los shoots)"
   ]
  }
 ],
 "metadata": {
  "kernelspec": {
   "display_name": "Python 3",
   "language": "python",
   "name": "python3"
  },
  "language_info": {
   "codemirror_mode": {
    "name": "ipython",
    "version": 3
   },
   "file_extension": ".py",
   "mimetype": "text/x-python",
   "name": "python",
   "nbconvert_exporter": "python",
   "pygments_lexer": "ipython3",
   "version": "3.7.4"
  }
 },
 "nbformat": 4,
 "nbformat_minor": 2
}
