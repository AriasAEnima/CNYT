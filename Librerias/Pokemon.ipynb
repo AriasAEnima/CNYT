{
 "cells": [
  {
   "cell_type": "code",
   "execution_count": 6,
   "metadata": {},
   "outputs": [],
   "source": [
    "from Simulador.simulador import resultado\n",
    "from Matriz_Compleja.libreriamatrices import prodtensorial as tens\n",
    "personaje=mc([\n",
    "    [(0,0),(0.61,0),(0.39,0)],\n",
    "    [(0.5,0),(0.09,0),(0.41,0)],\n",
    "    [(0.5,0),(0.3,0),(0.2,0)]]\n",
    ")\n",
    "posicion=mc([\n",
    "    [(7/34,0),(14.34,0),(9/34,0),(9/34,0)],\n",
    "    [(15/34,0),(6/34,0),(12/34,0),(1/34,0)],\n",
    "    [(2/34,0),(3/34,0),(13/34,0),(16/34,0)],\n",
    "    [(10/34,0),(11/34,0),(5/34,0),(8/34,0)]]\n",
    ")\n",
    "D=tens(personaje,posicion)\n",
    "posI=mc([[(0,0)],[(0,0)],[(0,0)],[(1,0)]])\n",
    "carI=mc([[(0,0)],[(1,0)],[(0,0)]])\n",
    "I=tens(posI,carI)"
   ]
  },
  {
   "cell_type": "markdown",
   "metadata": {},
   "source": [
    "<img src=\"files/Pokemon/posicion.png\" width=\"35%\" style=\"float: left\"/> \n",
    "<img src=\"files/Pokemon/personaje.png\" width=\"35%\" style=\"foat: right\"/> "
   ]
  },
  {
   "cell_type": "markdown",
   "metadata": {},
   "source": [
    "## Estado Inicial 1\n",
    "<img src=\"files/Pokemon/inicial1.png\" style=\"width:100px;height:100px\"> "
   ]
  },
  {
   "cell_type": "markdown",
   "metadata": {},
   "source": [
    "## 0 Clicks"
   ]
  },
  {
   "cell_type": "code",
   "execution_count": 7,
   "metadata": {},
   "outputs": [
    {
     "name": "stdout",
     "output_type": "stream",
     "text": [
      "Vector Estado final:\n"
     ]
    },
    {
     "data": {
      "image/png": "[encoded data removed]",
      "text/plain": [
       "<Figure size 432x288 with 1 Axes>"
      ]
     },
     "metadata": {
      "needs_background": "light"
     },
     "output_type": "display_data"
    },
    {
     "name": "stdout",
     "output_type": "stream",
     "text": [
      "[0, 0, 0, 0, 0, 0, 0, 0, 0, 0, 1, 0]\n"
     ]
    }
   ],
   "source": [
    "resultado(D,I,0)"
   ]
  },
  {
   "cell_type": "code",
   "execution_count": null,
   "metadata": {},
   "outputs": [],
   "source": []
  }
 ],
 "metadata": {
  "kernelspec": {
   "display_name": "Python 3",
   "language": "python",
   "name": "python3"
  },
  "language_info": {
   "codemirror_mode": {
    "name": "ipython",
    "version": 3
   },
   "file_extension": ".py",
   "mimetype": "text/x-python",
   "name": "python",
   "nbconvert_exporter": "python",
   "pygments_lexer": "ipython3",
   "version": "3.7.4"
  }
 },
 "nbformat": 4,
 "nbformat_minor": 2
}
