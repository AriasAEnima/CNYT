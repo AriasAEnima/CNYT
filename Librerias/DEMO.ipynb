{
 "cells": [
  {
   "cell_type": "markdown",
   "metadata": {},
   "source": [
    "## El grafo asociado es :\n",
    "<img src=\"files/Imagenes/grafo.png\" width =\"50%\"> \n",
    "\n",
    "## La matriz asociada es : \n",
    "$$ D=\\begin{bmatrix} 0&\\frac{1}{\\sqrt{2}}&\\frac{1}{\\sqrt{2}}&0 \\\\ \\frac{1}{\\sqrt{2}} & 0 & 0 & \\frac{-1}{\\sqrt{2}} \\\\ \\frac{1}{\\sqrt{2}} & 0 & 0 & \\frac{1}{\\sqrt{2}} \\\\  0&\\frac{-1}{\\sqrt{2}}&\\frac{1}{\\sqrt{2}}&0   \\end{bmatrix} $$"
   ]
  },
  {
   "cell_type": "code",
   "execution_count": 7,
   "metadata": {},
   "outputs": [
    {
     "name": "stdout",
     "output_type": "stream",
     "text": [
      "Vector Estado final:\n"
     ]
    },
    {
     "data": {
      "image/png": "[encoded data removed]",
      "text/plain": [
       "<Figure size 432x288 with 1 Axes>"
      ]
     },
     "metadata": {
      "needs_background": "light"
     },
     "output_type": "display_data"
    },
    {
     "name": "stdout",
     "output_type": "stream",
     "text": [
      "[0.24999999999999994, 0.24999999999999994, 0.0, 0.4999999999999999]\n"
     ]
    }
   ],
   "source": [
    "from Simulador.simuladorcuantico import resultado\n",
    "from Matriz_Compleja.libreriamatrices import matrizcompleja as mc\n",
    "from math import sqrt\n",
    "D=mc([\n",
    "    [(0,0),(1/sqrt(2),0),(1/sqrt(2),0),(0,0)],\n",
    "    [(1/sqrt(2),0),(0,0),(0,0),(-1/sqrt(2),0)],\n",
    "    [(1/sqrt(2),0),(0,0),(0,0),(1/sqrt(2),0)],\n",
    "    [(0,0),(-1/sqrt(2),0),(1/sqrt(2),0),(0,0)]]\n",
    ")\n",
    "I=mc([\n",
    "    [(-1/sqrt(8),1/sqrt(8))],\n",
    "    [(1/sqrt(8),-1/sqrt(8))],\n",
    "    [(0,0)],\n",
    "    [(0,1/sqrt(2))]\n",
    "])\n",
    "resultado(D,I,0)"
   ]
  },
  {
   "cell_type": "code",
   "execution_count": null,
   "metadata": {},
   "outputs": [],
   "source": []
  }
 ],
 "metadata": {
  "kernelspec": {
   "display_name": "Python 3",
   "language": "python",
   "name": "python3"
  },
  "language_info": {
   "codemirror_mode": {
    "name": "ipython",
    "version": 3
   },
   "file_extension": ".py",
   "mimetype": "text/x-python",
   "name": "python",
   "nbconvert_exporter": "python",
   "pygments_lexer": "ipython3",
   "version": "3.7.4"
  }
 },
 "nbformat": 4,
 "nbformat_minor": 2
}
