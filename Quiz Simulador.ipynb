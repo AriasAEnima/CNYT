{
 "cells": [
  {
   "cell_type": "code",
   "execution_count": 1,
   "metadata": {},
   "outputs": [
    {
     "name": "stdout",
     "output_type": "stream",
     "text": [
      "[{0.0000.000i}, {0.0000.000i}, {0.0560.000i}, {0.1110.000i}, {0.2780.000i}, {0.5560.000i}]\n",
      "[{0.0000.000i}, {0.0000.000i}, {0.1110.000i}, {0.0560.000i}, {0.5560.000i}, {0.2780.000i}]\n",
      "[{0.1110.000i}, {0.2220.000i}, {0.1670.000i}, {0.3330.000i}, {0.0560.000i}, {0.1110.000i}]\n",
      "[{0.2220.000i}, {0.1110.000i}, {0.3330.000i}, {0.1670.000i}, {0.1110.000i}, {0.0560.000i}]\n",
      "[{0.2220.000i}, {0.4440.000i}, {0.1110.000i}, {0.2220.000i}, {0.0000.000i}, {0.0000.000i}]\n",
      "[{0.4440.000i}, {0.2220.000i}, {0.2220.000i}, {0.1110.000i}, {0.0000.000i}, {0.0000.000i}]\n",
      "\n",
      "Vector Estado final:\n"
     ]
    },
    {
     "data": {
      "text/plain": [
       "<Figure size 640x480 with 1 Axes>"
      ]
     },
     "metadata": {},
     "output_type": "display_data"
    },
    {
     "name": "stdout",
     "output_type": "stream",
     "text": [
      "0.8\n",
      "0.2\n",
      "0.0\n",
      "0.0\n",
      "0.0\n",
      "0.0\n"
     ]
    }
   ],
   "source": [
    "import numpy as np \n",
    "import matplotlib.pyplot as plt\n",
    "from Matriz_Compleja.libreriamatrices import matrizcompleja as mc\n",
    "from Matriz_Compleja.libreriamatrices import multmat as mult\n",
    "from Matriz_Compleja.libreriamatrices import prodtensorial as tens\n",
    "def simulador(D,I,n):\n",
    "    return mult(D.potencia(n),I)\n",
    "A=mc([[(0,0),(1/6,0),(5/6,0)],\n",
    "      [(1/3,0),(1/2,0),(1/6,0)],\n",
    "      [(2/3,0),(1/3,0),(0,0)]   \n",
    "     ])\n",
    "B=mc([\n",
    "    [(1/3,0),(2/3,0)],\n",
    "    [(2/3,0),(1/3,0)]    \n",
    "])\n",
    "\n",
    "D=tens(A,B)\n",
    "print(D)\n",
    "clicks=0\n",
    "I=mc([[(0.8,0)],[(0.2,0)],[(0,0)],[(0,0)],[(0,0)],[(0,0)]])\n",
    "print(\"Vector Estado final:\")\n",
    "V=simulador(D,I,clicks)\n",
    "labels=['Pto 0', 'Pto 1','Pto 2','Pto 3','Pto 4','Pto 5']\n",
    "estado=[V.idx(0,0).a,V.idx(1,0).a,V.idx(2,0).a,V.idx(3,0).a,V.idx(4,0).a,V.idx(5,0).a]\n",
    "index=np.arange(len(labels))\n",
    "plt.bar(index,estado)\n",
    "plt.xlabel('Estado')\n",
    "plt.ylabel('Valor')\n",
    "plt.xticks(index,labels,rotation=75)\n",
    "plt.title('Evolucion Dinamica del sistema despues de '+str(clicks)+' clicks')\n",
    "plt.show()\n",
    "for i in estado:\n",
    "    print(i)"
   ]
  },
  {
   "cell_type": "code",
   "execution_count": null,
   "metadata": {},
   "outputs": [],
   "source": []
  }
 ],
 "metadata": {
  "kernelspec": {
   "display_name": "Python 3",
   "language": "python",
   "name": "python3"
  },
  "language_info": {
   "codemirror_mode": {
    "name": "ipython",
    "version": 3
   },
   "file_extension": ".py",
   "mimetype": "text/x-python",
   "name": "python",
   "nbconvert_exporter": "python",
   "pygments_lexer": "ipython3",
   "version": "3.7.4"
  }
 },
 "nbformat": 4,
 "nbformat_minor": 2
}
