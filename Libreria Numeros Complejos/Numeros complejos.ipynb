{
 "cells": [
  {
   "cell_type": "markdown",
   "metadata": {},
   "source": [
    "# Libreria Numeros Complejo\n",
    "Esta seria una libreria de python que nos permitira trabajar con numeros complejos"
   ]
  },
  {
   "cell_type": "code",
   "execution_count": 123,
   "metadata": {},
   "outputs": [],
   "source": [
    "import math\n",
    "class complejo:\n",
    "    def __init__(self, a, b):\n",
    "        self._a=a\n",
    "        self._b=b\n",
    "        self._r=math.sqrt(a**2+b**2)\n",
    "        delta=0\n",
    "        if (a<0 and b>=0):\n",
    "            delta=math.pi\n",
    "        elif(b<0):\n",
    "            delta=2*math.pi\n",
    "        if (a==0):\n",
    "            self._angle=math.pi/2\n",
    "            if(b<0):\n",
    "                self._angle=3*math.pi/2\n",
    "        else:            \n",
    "            self._angle=math.atan(b/a)+delta\n",
    "    @property    \n",
    "    def r(self):\n",
    "        return self._r\n",
    "    @property    \n",
    "    def a(self):\n",
    "        return self._a\n",
    "    @property    \n",
    "    def b(self):\n",
    "        return self._b  \n",
    "    @property\n",
    "    def angle(self):\n",
    "        return self._angle\n",
    "    @staticmethod\n",
    "    def suma(x,y):\n",
    "        return complejo(x.a+y.a,x.b+y.b)\n",
    "    @staticmethod\n",
    "    def resta(x,y):\n",
    "        return complejo(x.a-y.b,x.b-y.b)\n",
    "    @staticmethod\n",
    "    def producto(x, y):\n",
    "        return complejo(x.a*y.a-x.b*y.b,x.a*y.b+x.b*y.a)\n",
    "    @staticmethod\n",
    "    def division(x, y):\n",
    "        z=y.conjugado()\n",
    "        n=complejo.producto(x,z)\n",
    "        try:            \n",
    "            d=(y.a**2+y.b**2)    \n",
    "            ans=complejo(n.a/d,n.b/d)\n",
    "            return ans\n",
    "        except ZeroDivisionError:\n",
    "            raise ZeroDivisionError(\"El divisor no puede ser cero\")           \n",
    "    def conjugado(self):\n",
    "        return complejo(self.a,-self.b)\n",
    "    def pcartesiano(self):\n",
    "        x=str(\"%.3f\" % self.a)  \n",
    "        y=\"\"\n",
    "        if(self.b>0):\n",
    "            y=\"+\"        \n",
    "        print(x+y+\"%.3f\" % self.b+\"i\")\n",
    "    def ppolar(self):                   \n",
    "        print(\"(\"+str(\"%.3f\" % self.r)+\",\"+\"%.3f\" % self.b+\" θ)\")\n",
    "    def __str__(self):\n",
    "        return \"(\"+str(self.a)+\", \"+str(self.b)+\")\"\n",
    "    "
   ]
  },
  {
   "cell_type": "markdown",
   "metadata": {},
   "source": [
    "## Representacion de numeros complejos\n",
    "El numero $a + ib$ lo representaremos mediante la dupla (a,b)"
   ]
  },
  {
   "cell_type": "markdown",
   "metadata": {},
   "source": [
    "### Probemos la funcion ```suma```"
   ]
  },
  {
   "cell_type": "code",
   "execution_count": 97,
   "metadata": {},
   "outputs": [
    {
     "name": "stdout",
     "output_type": "stream",
     "text": [
      "(37, 1)\n"
     ]
    }
   ],
   "source": [
    "q=complejo(35,6)\n",
    "t=complejo(2,-5)\n",
    "z=complejo.suma(q,t)\n",
    "print(z)"
   ]
  },
  {
   "cell_type": "markdown",
   "metadata": {},
   "source": [
    "Justificacion de la prueba:\n",
    "\n",
    "$ (35 + 6i) + (2-5i) = 37 + i $"
   ]
  },
  {
   "cell_type": "markdown",
   "metadata": {},
   "source": [
    "### Probemos la funcion de ```conjugado``` "
   ]
  },
  {
   "cell_type": "code",
   "execution_count": 98,
   "metadata": {},
   "outputs": [
    {
     "name": "stdout",
     "output_type": "stream",
     "text": [
      "(2, 5)\n"
     ]
    }
   ],
   "source": [
    "q=complejo(2,-5)\n",
    "c=q.conjugado()\n",
    "print(c)"
   ]
  },
  {
   "cell_type": "markdown",
   "metadata": {},
   "source": [
    "### Probemos la funcion ```Multiplicar```"
   ]
  },
  {
   "cell_type": "code",
   "execution_count": 99,
   "metadata": {},
   "outputs": [
    {
     "name": "stdout",
     "output_type": "stream",
     "text": [
      "(100, -163)\n"
     ]
    }
   ],
   "source": [
    "q=complejo(35,6)\n",
    "t=complejo(2,-5)\n",
    "z=complejo.producto(q,t)\n",
    "print(z)"
   ]
  },
  {
   "cell_type": "markdown",
   "metadata": {},
   "source": [
    "### Probemos la funcion ```Division```"
   ]
  },
  {
   "cell_type": "code",
   "execution_count": 100,
   "metadata": {},
   "outputs": [
    {
     "name": "stdout",
     "output_type": "stream",
     "text": [
      "(0.7647058823529411, 0.9411764705882353)\n"
     ]
    }
   ],
   "source": [
    "q=complejo(7,-1)\n",
    "t=complejo(3,-5)\n",
    "z=complejo.division(q,t)\n",
    "print(z)"
   ]
  },
  {
   "cell_type": "markdown",
   "metadata": {},
   "source": [
    "### Obtener  ```modulo```"
   ]
  },
  {
   "cell_type": "code",
   "execution_count": 101,
   "metadata": {},
   "outputs": [
    {
     "name": "stdout",
     "output_type": "stream",
     "text": [
      "7.0710678118654755\n"
     ]
    }
   ],
   "source": [
    "q=complejo(7,-1)\n",
    "print(q.r)"
   ]
  },
  {
   "cell_type": "markdown",
   "metadata": {},
   "source": [
    "### Obtener  ```Fase``` en Radianes"
   ]
  },
  {
   "cell_type": "code",
   "execution_count": 102,
   "metadata": {},
   "outputs": [
    {
     "name": "stdout",
     "output_type": "stream",
     "text": [
      "6.141288252575422\n"
     ]
    }
   ],
   "source": [
    "q=complejo(7,-1)\n",
    "print(q.angle)"
   ]
  },
  {
   "cell_type": "markdown",
   "metadata": {},
   "source": [
    "### Obtener  ```Cartesiano``` "
   ]
  },
  {
   "cell_type": "code",
   "execution_count": 117,
   "metadata": {},
   "outputs": [
    {
     "name": "stdout",
     "output_type": "stream",
     "text": [
      "7.000-1.000i\n"
     ]
    }
   ],
   "source": [
    "q=complejo(7,-1)\n",
    "q.pcartesiano()"
   ]
  },
  {
   "cell_type": "markdown",
   "metadata": {},
   "source": [
    "### Obtener  ```Polar``` "
   ]
  },
  {
   "cell_type": "code",
   "execution_count": 124,
   "metadata": {},
   "outputs": [
    {
     "name": "stdout",
     "output_type": "stream",
     "text": [
      "(7.071,-1.000 θ)\n"
     ]
    }
   ],
   "source": [
    "q=complejo(7,-1)\n",
    "q.ppolar()"
   ]
  },
  {
   "cell_type": "code",
   "execution_count": null,
   "metadata": {},
   "outputs": [],
   "source": []
  }
 ],
 "metadata": {
  "kernelspec": {
   "display_name": "Python 3",
   "language": "python",
   "name": "python3"
  },
  "language_info": {
   "codemirror_mode": {
    "name": "ipython",
    "version": 3
   },
   "file_extension": ".py",
   "mimetype": "text/x-python",
   "name": "python",
   "nbconvert_exporter": "python",
   "pygments_lexer": "ipython3",
   "version": "3.7.4"
  }
 },
 "nbformat": 4,
 "nbformat_minor": 2
}
