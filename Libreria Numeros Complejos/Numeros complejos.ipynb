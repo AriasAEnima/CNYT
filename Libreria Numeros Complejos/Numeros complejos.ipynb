{
 "cells": [
  {
   "cell_type": "markdown",
   "metadata": {},
   "source": [
    "# Libreria Numeros Complejo\n",
    "Esta seria una libreria de python que nos permitira trabajar con numeros complejos"
   ]
  },
  {
   "cell_type": "markdown",
   "metadata": {},
   "source": [
    "## Representacion de numeros complejos\n",
    "El numero $a + ib$ lo representaremos mediante la dupla (a,b)"
   ]
  },
  {
   "cell_type": "code",
   "execution_count": 57,
   "metadata": {},
   "outputs": [],
   "source": [
    "class complejo:\n",
    "    def __init__(self, a, b):\n",
    "        self.a=a\n",
    "        self.b=b\n",
    "    @staticmethod\n",
    "    def suma(x,y):\n",
    "        return complejo(x.a+y.a,x.b+y.b)\n",
    "    @staticmethod\n",
    "    def resta(x,y):\n",
    "        return complejo(x.a-y.b,x.b-y.b)\n",
    "    @staticmethod\n",
    "    def producto(x, y):\n",
    "         return complejo(x.a*y.a-x.b*y.b,x.a*y.b+x.b*y.a)\n",
    "    def conjugado(self):\n",
    "        self.b=-self.b\n",
    "    def __str__(self):\n",
    "        return \"(\"+str(self.a)+\", \"+str(self.b)+\")\""
   ]
  },
  {
   "cell_type": "markdown",
   "metadata": {},
   "source": [
    "### Probemos la funcion ```suma```"
   ]
  },
  {
   "cell_type": "code",
   "execution_count": 58,
   "metadata": {},
   "outputs": [
    {
     "name": "stdout",
     "output_type": "stream",
     "text": [
      "(37, 1)\n"
     ]
    }
   ],
   "source": [
    "q=complejo(35,6)\n",
    "t=complejo(2,-5)\n",
    "z=complejo.suma(q,t)\n",
    "print(z)"
   ]
  },
  {
   "cell_type": "markdown",
   "metadata": {},
   "source": [
    "Justificacion de la prueba:\n",
    "\n",
    "$ (35 + 6i) + (2-5i) = 37 + i $"
   ]
  },
  {
   "cell_type": "markdown",
   "metadata": {},
   "source": [
    "### Probemos la funcion de ```conjugado``` "
   ]
  },
  {
   "cell_type": "code",
   "execution_count": 59,
   "metadata": {},
   "outputs": [
    {
     "name": "stdout",
     "output_type": "stream",
     "text": [
      "(2, 5)\n"
     ]
    }
   ],
   "source": [
    "q=complejo(2,-5)\n",
    "q.conjugado()\n",
    "print(q)"
   ]
  },
  {
   "cell_type": "markdown",
   "metadata": {},
   "source": [
    "### Probemos la funcion ```multiplicar```"
   ]
  },
  {
   "cell_type": "code",
   "execution_count": 42,
   "metadata": {},
   "outputs": [
    {
     "name": "stdout",
     "output_type": "stream",
     "text": [
      "(100,-163)\n"
     ]
    }
   ],
   "source": [
    "q=complejo(35,6)\n",
    "t=complejo(2,-5)\n",
    "z=complejo.producto(q,t)\n",
    "print(z)"
   ]
  },
  {
   "cell_type": "code",
   "execution_count": null,
   "metadata": {},
   "outputs": [],
   "source": []
  }
 ],
 "metadata": {
  "kernelspec": {
   "display_name": "Python 3",
   "language": "python",
   "name": "python3"
  },
  "language_info": {
   "codemirror_mode": {
    "name": "ipython",
    "version": 3
   },
   "file_extension": ".py",
   "mimetype": "text/x-python",
   "name": "python",
   "nbconvert_exporter": "python",
   "pygments_lexer": "ipython3",
   "version": "3.7.4"
  }
 },
 "nbformat": 4,
 "nbformat_minor": 2
}
