{
 "cells": [
  {
   "cell_type": "markdown",
   "metadata": {},
   "source": [
    "# Libreria Numeros Complejo\n",
    "Esta seria una libreria de python que nos permitira trabajar con numeros complejos\n",
    "### Nos permitira crear a partir de parametros cartesianos o polares el numero complejo (ejemplos abajo)"
   ]
  },
  {
   "cell_type": "code",
   "execution_count": 150,
   "metadata": {},
   "outputs": [],
   "source": [
    "import math\n",
    "class complejo:\n",
    "    #Constructor Cartesiano y Polar\n",
    "    def __init__(self, a=None, b=None,r=None,angle=None):       \n",
    "        delta=0\n",
    "        if(a != None and b!= None):\n",
    "            self._a=a\n",
    "            self._b=b\n",
    "            self._r=math.sqrt(a**2+b**2)\n",
    "            if (a<0 and b>=0):\n",
    "                delta=math.pi\n",
    "            elif(b<0):\n",
    "                delta=2*math.pi\n",
    "            if (a==0):\n",
    "                self._angle=math.pi/2\n",
    "                if(b<0):\n",
    "                    self._angle=3*math.pi/2\n",
    "            else:                    \n",
    "                self._angle=math.atan(b/a)+delta\n",
    "        elif(r!=None and angle!=None):\n",
    "            self._b=r*math.sin(angle)\n",
    "            self._a=r*math.cos(angle)\n",
    "        else:\n",
    "            raise Exception(\"ERROR: Faltan Parametros\")          \n",
    "\n",
    "    @staticmethod\n",
    "    def suma(x,y):\n",
    "        complejo.soncomplejos(x,y)\n",
    "        return complejo(x.a+y.a,x.b+y.b)\n",
    "    \n",
    "    @staticmethod\n",
    "    def resta(x,y):\n",
    "        complejo.soncomplejos(x,y)\n",
    "        return complejo(x.a-y.b,x.b-y.b)\n",
    "    \n",
    "    @staticmethod\n",
    "    def producto(x, y):\n",
    "        complejo.soncomplejos(x,y)\n",
    "        return complejo(x.a*y.a-x.b*y.b,x.a*y.b+x.b*y.a)\n",
    "    \n",
    "    @staticmethod\n",
    "    def division(x, y):   \n",
    "        complejo.soncomplejos(x,y)\n",
    "        z=y.conjugado()\n",
    "        n=complejo.producto(x,z)\n",
    "        try:            \n",
    "            d=(y.a**2+y.b**2)    \n",
    "            ans=complejo(n.a/d,n.b/d)\n",
    "            return ans\n",
    "        except ZeroDivisionError as e:\n",
    "            raise Exception(\"ERROR: Division por 0\")  \n",
    "            \n",
    "    @staticmethod\n",
    "    def potencia(x,n):\n",
    "        if(not isinstance(x, complejo)):\n",
    "            raise Exception(\"ERROR: Deben se Complejo el numero a elevar\")\n",
    "        newr=x.r**n       \n",
    "        newangle=n*x.angle\n",
    "        if (newangle>=math.pi*2):\n",
    "            newangle=newangle%math.pi*2\n",
    "        return complejo(r=newr,angle=newangle)        \n",
    "    \n",
    "    \n",
    "    def conjugado(self):\n",
    "        return complejo(self.a,-self.b)\n",
    "    def pcartesiana(self):\n",
    "        x=str(\"%.3f\" % self.a)  \n",
    "        y=\"\"\n",
    "        if(self.b>0):\n",
    "            y=\"+\"        \n",
    "        print(x+y+\"%.3f\" % self.b+\"i\")\n",
    "    def ppolar(self):                   \n",
    "        print(\"(\"+str(\"%.3f\" % self.r)+\",\"+\"%.3f\" % self.angle+\" θ)\")\n",
    "        \n",
    "    #Funciones obligatorias :    \n",
    "    def __str__(self):\n",
    "        return \"(\"+str(self.a)+\", \"+str(self.b)+\")\"\n",
    "    @property    \n",
    "    def r(self):\n",
    "        return self._r\n",
    "    @property    \n",
    "    def a(self):\n",
    "        return self._a\n",
    "    @property    \n",
    "    def b(self):\n",
    "        return self._b  \n",
    "    @property\n",
    "    def angle(self):\n",
    "        return self._angle\n",
    "    \n",
    "    @staticmethod \n",
    "    def soncomplejos(x,y):\n",
    "        if (not isinstance(x, complejo) or not isinstance(y, complejo)) :\n",
    "            raise Exception(\"ERROR: Deben ser Complejos los Parametros\")\n",
    "        \n",
    "        \n",
    "    "
   ]
  },
  {
   "cell_type": "markdown",
   "metadata": {},
   "source": [
    "## Representacion de numeros complejos\n",
    "El numero $a + ib$ lo representaremos predeterminadamente mediante la dupla  $$ (a,b) $$  con la opcion\n",
    "de imprimirla en el estilo $$ a+bi $$ y la polar $$ (r, \\theta) $$"
   ]
  },
  {
   "cell_type": "markdown",
   "metadata": {},
   "source": [
    "### Probemos la funcion ```suma```"
   ]
  },
  {
   "cell_type": "code",
   "execution_count": 151,
   "metadata": {},
   "outputs": [
    {
     "name": "stdout",
     "output_type": "stream",
     "text": [
      "(37, 1)\n"
     ]
    }
   ],
   "source": [
    "q=complejo(35,6)\n",
    "t=complejo(2,-5)\n",
    "z=complejo.suma(q,t)\n",
    "print(z)"
   ]
  },
  {
   "cell_type": "markdown",
   "metadata": {},
   "source": [
    "Justificacion de la prueba:\n",
    "\n",
    "$ (35 + 6i) + (2-5i) = 37 + i $"
   ]
  },
  {
   "cell_type": "markdown",
   "metadata": {},
   "source": [
    "### Probemos la funcion de ```conjugado``` "
   ]
  },
  {
   "cell_type": "code",
   "execution_count": 152,
   "metadata": {},
   "outputs": [
    {
     "name": "stdout",
     "output_type": "stream",
     "text": [
      "(2, 5)\n"
     ]
    }
   ],
   "source": [
    "q=complejo(2,-5)\n",
    "c=q.conjugado()\n",
    "print(c)"
   ]
  },
  {
   "cell_type": "markdown",
   "metadata": {},
   "source": [
    "### Probemos la funcion ```producto```"
   ]
  },
  {
   "cell_type": "code",
   "execution_count": 153,
   "metadata": {},
   "outputs": [
    {
     "name": "stdout",
     "output_type": "stream",
     "text": [
      "(100, -163)\n"
     ]
    }
   ],
   "source": [
    "q=complejo(35,6)\n",
    "t=complejo(2,-5)\n",
    "z=complejo.producto(q,t)\n",
    "print(z)"
   ]
  },
  {
   "cell_type": "markdown",
   "metadata": {},
   "source": [
    "### Probemos la funcion ```division```"
   ]
  },
  {
   "cell_type": "code",
   "execution_count": 154,
   "metadata": {},
   "outputs": [
    {
     "name": "stdout",
     "output_type": "stream",
     "text": [
      "(0.7647058823529411, 0.9411764705882353)\n"
     ]
    }
   ],
   "source": [
    "q=complejo(7,-1)\n",
    "t=complejo(3,-5)\n",
    "z=complejo.division(q,t)\n",
    "print(z)"
   ]
  },
  {
   "cell_type": "markdown",
   "metadata": {},
   "source": [
    "Justificacion de la prueba:\n",
    "\n",
    "$$ \\frac{7 - i}{3-5i} = \\frac{13}{17} + \\frac{16}{17}i \\approx 0.7647058 + 0.9411764i $$"
   ]
  },
  {
   "cell_type": "markdown",
   "metadata": {},
   "source": [
    "### Imprimir representacion  ```Cartesiana``` con  ```pcartesiano``` \n",
    "#### Funcion pcartesiano imprime "
   ]
  },
  {
   "cell_type": "code",
   "execution_count": 155,
   "metadata": {},
   "outputs": [
    {
     "name": "stdout",
     "output_type": "stream",
     "text": [
      "7.000-1.000i\n"
     ]
    }
   ],
   "source": [
    "q=complejo(7,-1)\n",
    "q.pcartesiana()"
   ]
  },
  {
   "cell_type": "markdown",
   "metadata": {},
   "source": [
    "### Imprimir representacion  ```Polar```   con  ```ppolar```\n",
    "#### Funcion ppolar imprime magnitud y angulo en Radianes"
   ]
  },
  {
   "cell_type": "code",
   "execution_count": 156,
   "metadata": {},
   "outputs": [
    {
     "name": "stdout",
     "output_type": "stream",
     "text": [
      "(7.071,6.141 θ)\n"
     ]
    }
   ],
   "source": [
    "q=complejo(7,-1)\n",
    "q.ppolar()"
   ]
  },
  {
   "cell_type": "markdown",
   "metadata": {},
   "source": [
    "$$ 7-i=7.071e^{i6.141°} $$"
   ]
  },
  {
   "cell_type": "markdown",
   "metadata": {},
   "source": [
    "### Obtener  ```modulo```\n",
    "#### Atributo r devuelve un numero"
   ]
  },
  {
   "cell_type": "code",
   "execution_count": 157,
   "metadata": {},
   "outputs": [
    {
     "name": "stdout",
     "output_type": "stream",
     "text": [
      "7.0710678118654755\n"
     ]
    }
   ],
   "source": [
    "q=complejo(7,-1)\n",
    "print(q.r)"
   ]
  },
  {
   "cell_type": "markdown",
   "metadata": {},
   "source": [
    "### Obtener  ```Fase``` en Radianes\n",
    "#### Atributo angle devuelve un numero"
   ]
  },
  {
   "cell_type": "code",
   "execution_count": 158,
   "metadata": {},
   "outputs": [
    {
     "name": "stdout",
     "output_type": "stream",
     "text": [
      "6.141288252575422\n"
     ]
    }
   ],
   "source": [
    "q=complejo(7,-1)\n",
    "print(q.angle)"
   ]
  },
  {
   "cell_type": "markdown",
   "metadata": {},
   "source": [
    "## Obtener  complejo por cordenadas polares \n",
    "#### En este caso debera especificarse el parametro r y angle"
   ]
  },
  {
   "cell_type": "code",
   "execution_count": 159,
   "metadata": {},
   "outputs": [
    {
     "ename": "AttributeError",
     "evalue": "'complejo' object has no attribute 'pcartesiano'",
     "output_type": "error",
     "traceback": [
      "\u001b[1;31m---------------------------------------------------------------------------\u001b[0m",
      "\u001b[1;31mAttributeError\u001b[0m                            Traceback (most recent call last)",
      "\u001b[1;32m<ipython-input-159-477bff067533>\u001b[0m in \u001b[0;36m<module>\u001b[1;34m\u001b[0m\n\u001b[0;32m      1\u001b[0m \u001b[0mq\u001b[0m\u001b[1;33m=\u001b[0m\u001b[0mcomplejo\u001b[0m\u001b[1;33m(\u001b[0m\u001b[0mr\u001b[0m\u001b[1;33m=\u001b[0m\u001b[1;36m5\u001b[0m\u001b[1;33m,\u001b[0m\u001b[0mangle\u001b[0m\u001b[1;33m=\u001b[0m\u001b[1;36m0.92729522\u001b[0m\u001b[1;33m)\u001b[0m\u001b[1;33m\u001b[0m\u001b[1;33m\u001b[0m\u001b[0m\n\u001b[1;32m----> 2\u001b[1;33m \u001b[0mq\u001b[0m\u001b[1;33m.\u001b[0m\u001b[0mpcartesiano\u001b[0m\u001b[1;33m(\u001b[0m\u001b[1;33m)\u001b[0m\u001b[1;33m\u001b[0m\u001b[1;33m\u001b[0m\u001b[0m\n\u001b[0m",
      "\u001b[1;31mAttributeError\u001b[0m: 'complejo' object has no attribute 'pcartesiano'"
     ]
    }
   ],
   "source": [
    "q=complejo(r=5,angle=0.92729522)\n",
    "q.pcartesiano()"
   ]
  },
  {
   "cell_type": "markdown",
   "metadata": {},
   "source": [
    "Justificacion de la prueba:\n",
    "\n",
    "<img src=\"files/ts.jpg\" style=\"width:200px;height:200px\"> \n",
    "\n",
    "$$ 53º7'48,368\". \\approx 0.92729522   Rad$$\n",
    "$$ 5e^{i0.92729522°}= 3 + 4i $$"
   ]
  },
  {
   "cell_type": "markdown",
   "metadata": {},
   "source": [
    "## Probemos la funcion ```potencia```"
   ]
  },
  {
   "cell_type": "code",
   "execution_count": 160,
   "metadata": {},
   "outputs": [
    {
     "name": "stdout",
     "output_type": "stream",
     "text": [
      "1.000+1.732i\n",
      "^7=\n",
      "-64.000+110.851i\n"
     ]
    }
   ],
   "source": [
    "q=complejo(1,math.sqrt(3))\n",
    "q.pcartesiana()\n",
    "print(\"^7=\")\n",
    "complejo.potencia(q,7).pcartesiana()"
   ]
  },
  {
   "cell_type": "markdown",
   "metadata": {},
   "source": [
    "$$ (1+ \\sqrt 3 i)^7=-64+101.841i $$"
   ]
  }
 ],
 "metadata": {
  "kernelspec": {
   "display_name": "Python 3",
   "language": "python",
   "name": "python3"
  },
  "language_info": {
   "codemirror_mode": {
    "name": "ipython",
    "version": 3
   },
   "file_extension": ".py",
   "mimetype": "text/x-python",
   "name": "python",
   "nbconvert_exporter": "python",
   "pygments_lexer": "ipython3",
   "version": "3.7.4"
  }
 },
 "nbformat": 4,
 "nbformat_minor": 2
}
