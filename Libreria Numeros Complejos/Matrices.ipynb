{
 "cells": [
  {
   "cell_type": "code",
   "execution_count": 1,
   "metadata": {},
   "outputs": [],
   "source": [
    "from libreriacomplejos import complejo as C\n",
    "from numpy import matrix\n",
    "\n",
    "def summat(A,B):\n",
    "    ans=[]\n",
    "    if (len(A)!=len(B) or len(A[0])!=len(B[0])):\n",
    "        raise Exception(\"ERROR: No comparten las dimensiones\")\n",
    "    for i in range(len(A)):\n",
    "        row=[]\n",
    "        for j in range(len(A[0])):\n",
    "            row.append(C.suma(A[i][j],B[i][j]))\n",
    "        ans.append(row)\n",
    "    return ans\n",
    "\n",
    "def multmat(A,B):\n",
    "    ans=[]\n",
    "    if (len(B)!=len(A[0])):\n",
    "        raise Exception(\"ERROR: No comparten las dimensiones para lograr producto\")\n",
    "    for i in range(len(A)):\n",
    "        row=[]        \n",
    "        for j in range(len(B[0])):\n",
    "            suma=C(0,0)\n",
    "            for k in range(len(B)):\n",
    "                #print(\"Indices A :{},{} Indices B {} ,{}\".format(i,k,k,j))\n",
    "                suma=C.suma(suma,C.producto(A[i][k],B[k][j]))                \n",
    "            row.append(suma)\n",
    "        ans.append(row)\n",
    "    return ans\n",
    "\n",
    "def accion(A,V):\n",
    "    return multmat(A,V)\n",
    "\n",
    "def invmat(M):\n",
    "    I=[]\n",
    "    for i in range(len(M)):\n",
    "        row=[]\n",
    "        for j in range(len(M[0])):\n",
    "            row.append(C.producto(M[i][j],C(-1,0)))\n",
    "        I.append(row)\n",
    "    return I\n",
    "            \n",
    "def multescmat(c,A):\n",
    "    M=[]\n",
    "    for i in range(len(A)):\n",
    "        row=[] \n",
    "        for j in range(len(A[0])):\n",
    "            row.append(C.producto(A[i][j],c))\n",
    "        M.append(row)\n",
    "    return M\n",
    "\n",
    "def trasmat(A):\n",
    "    T=[]\n",
    "    for i in range(len(A[0])):\n",
    "        row=[] \n",
    "        for j in range(len(A)):\n",
    "             row.append(A[j][i])\n",
    "        T.append(row)\n",
    "    return T    \n",
    "\n",
    "def conjmat(A):\n",
    "    CO=[]\n",
    "    for i in range(len(A)):\n",
    "        row=[] \n",
    "        for j in range(len(A[0])):\n",
    "             row.append(A[i][j].conjugado())\n",
    "        CO.append(row)\n",
    "    return CO\n",
    "\n",
    "def adjmat(A):\n",
    "    ans=conjmat(A)  \n",
    "    return trasmat(ans)\n",
    "\n",
    "def prodintmat(V1,V2):\n",
    "    print(adjmat(V1))\n",
    "    print(V2)\n",
    "    return multmat(adjmat(V1),V2)\n"
   ]
  },
  {
   "cell_type": "markdown",
   "metadata": {},
   "source": [
    "### Suma"
   ]
  },
  {
   "cell_type": "code",
   "execution_count": 2,
   "metadata": {
    "scrolled": true
   },
   "outputs": [
    {
     "name": "stdout",
     "output_type": "stream",
     "text": [
      "[[{2.000+2.000i}, {3.000-3.000i}], [{1.000-1.000i}, {6.000+8.000i}]]\n",
      " + \n",
      "[[{2.000+5.000i}, {3.000-7.000i}], [{2.000-1.000i}, {6.000+8.000i}]]\n",
      " =\n",
      "[[{4.000+7.000i}, {6.000-10.000i}], [{3.000-2.000i}, {12.000+16.000i}]]\n"
     ]
    }
   ],
   "source": [
    "a=[[C(2,2),C(3,-3)],[C(1,-1),C(6,8)]]\n",
    "b=[[C(2,5),C(3,-7)],[C(2,-1),C(6,8)]]\n",
    "print(str(a)+\"\\n + \\n\"+str(b)+\"\\n =\")\n",
    "print(summat(a,b))"
   ]
  },
  {
   "cell_type": "markdown",
   "metadata": {},
   "source": [
    "### Multiplicacion"
   ]
  },
  {
   "cell_type": "code",
   "execution_count": 3,
   "metadata": {
    "scrolled": true
   },
   "outputs": [
    {
     "name": "stdout",
     "output_type": "stream",
     "text": [
      "[[{2.000+2.000i}, {3.000-3.000i}], [{1.000-1.000i}, {6.000+8.000i}]]\n",
      " * \n",
      "[[{2.000+5.000i}, {3.000-7.000i}], [{2.000-1.000i}, {6.000+8.000i}]]\n",
      " =\n",
      "[[{-3.000+5.000i}, {62.000-2.000i}], [{27.000+13.000i}, {-32.000+86.000i}]]\n"
     ]
    }
   ],
   "source": [
    "a=[[C(2,2),C(3,-3)],[C(1,-1),C(6,8)]]\n",
    "b=[[C(2,5),C(3,-7)],[C(2,-1),C(6,8)]]\n",
    "print(str(a)+\"\\n * \\n\"+str(b)+\"\\n =\")\n",
    "print(multmat(a,b))"
   ]
  },
  {
   "cell_type": "markdown",
   "metadata": {},
   "source": [
    "### Inversa"
   ]
  },
  {
   "cell_type": "code",
   "execution_count": 4,
   "metadata": {
    "scrolled": true
   },
   "outputs": [
    {
     "name": "stdout",
     "output_type": "stream",
     "text": [
      "-[[{2.000+5.000i}, {3.000-7.000i}], [{2.000-1.000i}, {6.000+8.000i}]] = \n",
      "\n",
      "[[{-2.000-5.000i}, {-3.000+7.000i}], [{-2.000+1.000i}, {-6.000-8.000i}]]\n"
     ]
    }
   ],
   "source": [
    "b=[[C(2,5),C(3,-7)],[C(2,-1),C(6,8)]]\n",
    "print(\"-\"+str(b)+\" = \\n\\n\"+str(invmat(b)))"
   ]
  },
  {
   "cell_type": "markdown",
   "metadata": {},
   "source": [
    "### Producto por escalar"
   ]
  },
  {
   "cell_type": "code",
   "execution_count": 5,
   "metadata": {},
   "outputs": [
    {
     "name": "stdout",
     "output_type": "stream",
     "text": [
      "(-8, 0)*[[{2.000+2.000i}, {3.000-3.000i}], [{1.000-1.000i}, {6.000+8.000i}]] = \n",
      "\n",
      "[[{-16.000-16.000i}, {-24.000+24.000i}], [{-8.000+8.000i}, {-48.000-64.000i}]]\n"
     ]
    }
   ],
   "source": [
    "a=[[C(2,2),C(3,-3)],[C(1,-1),C(6,8)]]\n",
    "k=C(-8,0)\n",
    "print(str(k)+\"*\"+str(a)+\" = \\n\\n\"+str(multescmat(k,a)))"
   ]
  },
  {
   "cell_type": "markdown",
   "metadata": {},
   "source": [
    "### Traspuesta"
   ]
  },
  {
   "cell_type": "code",
   "execution_count": 6,
   "metadata": {},
   "outputs": [
    {
     "name": "stdout",
     "output_type": "stream",
     "text": [
      "[[{2.000+2.000i} {3.000-3.000i} {0.000+1.000i}]\n",
      " [{1.000-1.000i} {6.000+8.000i} {1.0000.000i}]\n",
      " [{1.000+1.000i} {1.000+1.000i} {1.000+1.000i}]]^t\n",
      " =  \n",
      "[[{2.000+2.000i} {1.000-1.000i} {1.000+1.000i}]\n",
      " [{3.000-3.000i} {6.000+8.000i} {1.000+1.000i}]\n",
      " [{0.000+1.000i} {1.0000.000i} {1.000+1.000i}]]\n"
     ]
    }
   ],
   "source": [
    "a=[[C(2,2),C(3,-3),C(0,1)],[C(1,-1),C(6,8),C(1,0)],[C(1,1),C(1,1),C(1,1)]]\n",
    "print(str(matrix(a))+\"^t\\n =  \\n\"+str(matrix(trasmat(a))))"
   ]
  },
  {
   "cell_type": "markdown",
   "metadata": {},
   "source": [
    "### Conjugada"
   ]
  },
  {
   "cell_type": "code",
   "execution_count": 7,
   "metadata": {},
   "outputs": [
    {
     "name": "stdout",
     "output_type": "stream",
     "text": [
      "Conj( [[{2.000+2.000i}, {3.000-3.000i}], [{1.000-1.000i}, {6.000+8.000i}]] )= \n",
      "\n",
      "[[{2.000-5.000i}, {3.000+7.000i}], [{2.000+1.000i}, {6.000-8.000i}]]\n"
     ]
    }
   ],
   "source": [
    "a=[[C(2,2),C(3,-3)],[C(1,-1),C(6,8)]]\n",
    "print(\"Conj( \"+str(a)+\" )= \\n\\n\"+str(conjmat(b)))"
   ]
  },
  {
   "cell_type": "markdown",
   "metadata": {},
   "source": [
    "### Adjunta"
   ]
  },
  {
   "cell_type": "code",
   "execution_count": 8,
   "metadata": {
    "scrolled": true
   },
   "outputs": [
    {
     "name": "stdout",
     "output_type": "stream",
     "text": [
      "ADJ( [[{2.000+2.000i} {3.000-3.000i}]\n",
      " [{1.000-1.000i} {6.000+8.000i}]] ) \n",
      " = \n",
      "[[{2.000-5.000i} {2.000+1.000i}]\n",
      " [{3.000+7.000i} {6.000-8.000i}]]\n"
     ]
    }
   ],
   "source": [
    "a=[[C(2,2),C(3,-3)],[C(1,-1),C(6,8)]]\n",
    "print(\"ADJ( \"+str(matrix(a))+\" ) \\n = \\n\"+str(matrix(adjmat(b))))"
   ]
  },
  {
   "cell_type": "markdown",
   "metadata": {},
   "source": [
    "### Producto  Interno"
   ]
  },
  {
   "cell_type": "code",
   "execution_count": 9,
   "metadata": {},
   "outputs": [
    {
     "name": "stdout",
     "output_type": "stream",
     "text": [
      "[[{3.000+1.000i}, {3.000-2.000i}]]\n",
      "[[{7.000-1.000i}], [{-1.000+2.000i}]]\n",
      "[[{23.000+12.000i}]]\n"
     ]
    }
   ],
   "source": [
    "a=[[C(3,-1)],[C(3,2)]]\n",
    "b=[[C(7,-1)],[C(-1,2)]]\n",
    "print(prodintmat(a,b))"
   ]
  },
  {
   "cell_type": "code",
   "execution_count": null,
   "metadata": {},
   "outputs": [],
   "source": []
  }
 ],
 "metadata": {
  "kernelspec": {
   "display_name": "Python 3",
   "language": "python",
   "name": "python3"
  },
  "language_info": {
   "codemirror_mode": {
    "name": "ipython",
    "version": 3
   },
   "file_extension": ".py",
   "mimetype": "text/x-python",
   "name": "python",
   "nbconvert_exporter": "python",
   "pygments_lexer": "ipython3",
   "version": "3.7.4"
  }
 },
 "nbformat": 4,
 "nbformat_minor": 2
}
