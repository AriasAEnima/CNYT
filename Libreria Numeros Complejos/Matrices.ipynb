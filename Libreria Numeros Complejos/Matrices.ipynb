{
 "cells": [
  {
   "cell_type": "code",
   "execution_count": 44,
   "metadata": {},
   "outputs": [],
   "source": [
    "from libreriacomplejos import complejo as C\n",
    "def summat(A,B):\n",
    "    ans=[]\n",
    "    if (len(A)!=len(B) or len(A[0])!=len(B[0])):\n",
    "        raise Exception(\"ERROR: No comparten las dimensiones\")\n",
    "    for i in range(len(A)):\n",
    "        row=[]\n",
    "        for j in range(len(A[0])):\n",
    "            row.append(C.suma(A[i][j],B[i][j]))\n",
    "        ans.append(row)\n",
    "    return ans\n",
    "def printmat(M):\n",
    "    rowstr=\"\"\n",
    "    for i in range(len(M)):\n",
    "        rowstr+=\"|\"\n",
    "        for j in range(len(M[0])):\n",
    "            rowstr+=\"{\"+M[i][j].strcart()+\"}\"\n",
    "            if (j!=len(M[0])-1):\n",
    "                rowstr+=\" | \"\n",
    "        rowstr+=\"|\\n\"\n",
    "    print(str(rowstr))\n",
    "\n",
    "def multmat(A,B):\n",
    "    ans=[]\n",
    "    if (len(B)!=len(A[0])):\n",
    "        raise Exception(\"ERROR: No comparten las dimensiones para lograr producto\")\n",
    "    for i in range(len(A)):\n",
    "        row=[]        \n",
    "        for j in range(len(A[0])):\n",
    "            suma=C(0,0)\n",
    "            for k in range(len(B)):\n",
    "                suma=C.suma(suma,C.producto(A[i][k],B[k][j]))\n",
    "                #print(\"Indices A :{},{} Indices B {} ,{}\".format(i,k,k,j))\n",
    "            row.append(suma)\n",
    "        ans.append(row)\n",
    "    return ans\n",
    "    "
   ]
  },
  {
   "cell_type": "code",
   "execution_count": 45,
   "metadata": {},
   "outputs": [
    {
     "name": "stdout",
     "output_type": "stream",
     "text": [
      "|{2.000+2.000i} | {3.000-3.000i}|\n",
      "|{1.000-1.000i} | {6.000+8.000i}|\n",
      "\n",
      " + \n",
      "|{2.000+5.000i} | {3.000-7.000i}|\n",
      "|{2.000-1.000i} | {6.000+8.000i}|\n",
      "\n",
      " = \n",
      "|{4.000+7.000i} | {6.000-10.000i}|\n",
      "|{3.000-2.000i} | {12.000+16.000i}|\n",
      "\n"
     ]
    }
   ],
   "source": [
    "a=[[C(2,2),C(3,-3)],[C(1,-1),C(6,8)]]\n",
    "b=[[C(2,5),C(3,-7)],[C(2,-1),C(6,8)]]\n",
    "printmat(a)\n",
    "print(\" + \")\n",
    "printmat(b)\n",
    "print(\" = \")\n",
    "printmat(summat(a,b))"
   ]
  },
  {
   "cell_type": "code",
   "execution_count": 46,
   "metadata": {},
   "outputs": [
    {
     "name": "stdout",
     "output_type": "stream",
     "text": [
      "|{2.000+2.000i} | {3.000-3.000i}|\n",
      "|{1.000-1.000i} | {6.000+8.000i}|\n",
      "\n",
      " * \n",
      "|{2.000+5.000i} | {3.000-7.000i}|\n",
      "|{2.000-1.000i} | {6.000+8.000i}|\n",
      "\n",
      " = \n",
      "|{-3.000+5.000i} | {62.000-2.000i}|\n",
      "|{27.000+13.000i} | {-32.000+86.000i}|\n",
      "\n"
     ]
    }
   ],
   "source": [
    "a=[[C(2,2),C(3,-3)],[C(1,-1),C(6,8)]]\n",
    "b=[[C(2,5),C(3,-7)],[C(2,-1),C(6,8)]]\n",
    "printmat(a)\n",
    "print(\" * \")\n",
    "printmat(b)\n",
    "print(\" = \")\n",
    "printmat(multmat(a,b))"
   ]
  },
  {
   "cell_type": "code",
   "execution_count": null,
   "metadata": {},
   "outputs": [],
   "source": []
  },
  {
   "cell_type": "code",
   "execution_count": null,
   "metadata": {},
   "outputs": [],
   "source": []
  }
 ],
 "metadata": {
  "kernelspec": {
   "display_name": "Python 3",
   "language": "python",
   "name": "python3"
  },
  "language_info": {
   "codemirror_mode": {
    "name": "ipython",
    "version": 3
   },
   "file_extension": ".py",
   "mimetype": "text/x-python",
   "name": "python",
   "nbconvert_exporter": "python",
   "pygments_lexer": "ipython3",
   "version": "3.7.4"
  }
 },
 "nbformat": 4,
 "nbformat_minor": 2
}
